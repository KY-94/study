{
 "cells": [
  {
   "cell_type": "code",
   "execution_count": null,
   "metadata": {},
   "outputs": [],
   "source": [
    "\n",
    "# 001 print 기초\n",
    "# 화면에 Hello World 문자열을 출력하세요.\n",
    "print(\"hello world\")"
   ]
  },
  {
   "cell_type": "code",
   "execution_count": null,
   "metadata": {},
   "outputs": [],
   "source": [
    "\n",
    "# 002 print 기초\n",
    "# 화면에 Mary's cosmetics을 출력하세요. (중간에 '가 있음에 주의하세요)\n",
    "\n",
    "print(\"Mary's cosmetices\")\n"
   ]
  },
  {
   "cell_type": "code",
   "execution_count": null,
   "metadata": {},
   "outputs": [],
   "source": [
    "# 003 print 기초\n",
    "# 화면에 아래 문장을 출력하세요. (중간에 \"가 있음에 주의하세요.)\n",
    "\n",
    "# 신씨가 소리질렀다. \"도둑이야\".\n",
    "\n",
    "print(\"신씨가 소리질렀다. \\\"도둑이야\\\".\")"
   ]
  },
  {
   "cell_type": "code",
   "execution_count": null,
   "metadata": {},
   "outputs": [],
   "source": [
    "# 004 print 기초\n",
    "# 화면에 \"C:\\Windows\"를 출력하세요.\n",
    "\n",
    "print('\"C:\\windows\"')\n"
   ]
  },
  {
   "cell_type": "code",
   "execution_count": null,
   "metadata": {},
   "outputs": [],
   "source": [
    "# 005 print 탭과 줄바꿈\n",
    "# 다음 코드를 실행해보고 \\t와 \\n의 역할을 설명해보세요.\n",
    "\n",
    "# print(\"안녕하세요.\\n만나서\\t\\t반갑습니다.\")\n",
    "\n",
    "#\\n 줄바꿈\n",
    "#\\t 탭\n",
    "print(\"안녕하세요.\\n만나서\\t\\t반갑습니다.\")\n"
   ]
  },
  {
   "cell_type": "code",
   "execution_count": null,
   "metadata": {},
   "outputs": [],
   "source": [
    "# 006 print 여러 데이터 출력\n",
    "# print 함수에 두 개의 단어를 입력한 예제입니다. 아래 코드의 출력 결과를 예상해봅시다.\n",
    "\n",
    "# print (\"오늘은\", \"일요일\")\n",
    "\n",
    "\n",
    "#여러 값을 출력하려면 print 함수에서 쉼표로 구분해주면 됩니다. 따라서 오늘은 다음에 공백이 하나 있고 일요일이 출력됩니다.\n",
    "print (\"오늘은\", \"일요일\")\n"
   ]
  },
  {
   "cell_type": "code",
   "execution_count": null,
   "metadata": {},
   "outputs": [],
   "source": [
    "# 007 print 기초 important\n",
    "# print() 함수를 사용하여 다음과 같이 출력하세요.\n",
    "\n",
    "# naver;kakao;sk;samsung\n",
    "\n",
    "#print 함수의 sep 인자로 \";\"를 입력하면 출력되는 값들 사이에 한 칸의 공백대신 세미콜론이 출력됩니다\n",
    "print(\"naver\", \"kakao\", \"sk\", \"samsung\", sep=\";\")\n"
   ]
  },
  {
   "cell_type": "code",
   "execution_count": null,
   "metadata": {},
   "outputs": [],
   "source": [
    "# 008 print 기초 important\n",
    "# print() 함수를 사용하여 다음과 같이 출력하세요.\n",
    "\n",
    "# naver/kakao/sk/samsung\n",
    "\n",
    "\n",
    "print(\"naver\", \"kakao\", \"samsung\", sep=\"/\")"
   ]
  },
  {
   "cell_type": "code",
   "execution_count": null,
   "metadata": {},
   "outputs": [],
   "source": [
    "# 009 print 줄바꿈 important\n",
    "# 다음 코드를 수정하여 줄바꿈이 없이 출력하세요. (힌트: end='') print 함수는 두 번 사용합니다. 세미콜론 (;)은 한줄에 여러 개의 명령을 작성하기 위해 사용합니다.\n",
    "\n",
    "# print(\"first\");print(\"second\")\n",
    "\n",
    "\n",
    "print(\"first\", end=\"\"); print(\"second\")\n"
   ]
  },
  {
   "cell_type": "code",
   "execution_count": null,
   "metadata": {},
   "outputs": [],
   "source": [
    "# 010 연산 결과 출력\n",
    "# 5/3의 결과를 화면에 출력하세요.\n",
    "\n",
    "print(5/3)"
   ]
  },
  {
   "cell_type": "code",
   "execution_count": null,
   "metadata": {},
   "outputs": [],
   "source": [
    "# 011 변수 사용하기 important\n",
    "# 삼성전자라는 변수로 50,000원을 바인딩해보세요. 삼성전자 주식 10주를 보유하고 있을 때 총 평가금액을 출력하세요.\n",
    "\n",
    "samsung = 50000\n",
    "stack = 10\n",
    "total_gold = samsung * stack\n",
    "print(\"{0:,}\".format(total_gold)) #3자리수마다 끊어주기\n"
   ]
  },
  {
   "cell_type": "code",
   "execution_count": null,
   "metadata": {},
   "outputs": [],
   "source": [
    "# 012 변수 사용하기\n",
    "# 다음 표는 삼성전자의 일부 투자정보입니다. 변수를 사용해서 시가총액, 현재가, PER 등을 바인딩(타입을 알아보세요)해보세요.\n",
    "\n",
    "# 항목\t    값\n",
    "# 시가총액\t298조\n",
    "# 현재가\t50,000원\n",
    "# PER\t    15.79\n",
    "\n",
    "total_money = 298000000000000\n",
    "current_money = 5000\n",
    "PER = 15.79\n",
    "print(total_money, type(total_money))\n",
    "print(current_money, type(current_money))\n",
    "print(PER, type(PER))"
   ]
  },
  {
   "cell_type": "code",
   "execution_count": null,
   "metadata": {},
   "outputs": [],
   "source": [
    "# 013 문자열 출력 important\n",
    "# 변수 s와 t에는 각각 문자열이 바인딩 되어있습니다.\n",
    "\n",
    "# >> s = \"hello\"\n",
    "# >> t = \"python\"\n",
    "# 두 변수를 이용하여 아래와 같이 출력해보세요.\n",
    "\n",
    "# 실행 예:\n",
    "# hello! python\n",
    "\n",
    "s = \"hello\"\n",
    "t = \"python\"\n",
    "\n",
    "print(s+\"!\" , t) #더하기는 바로 붙여지고  ,는한칸 띄워 주며 붙여준다"
   ]
  },
  {
   "cell_type": "code",
   "execution_count": null,
   "metadata": {},
   "outputs": [],
   "source": [
    "# 014 파이썬을 이용한 값 계산\n",
    "# 아래 코드의 실행 결과를 예상해보세요.\n",
    "\n",
    "# >> 2 + 2 * 3 \n",
    "\n"
   ]
  },
  {
   "cell_type": "code",
   "execution_count": null,
   "metadata": {},
   "outputs": [],
   "source": [
    "# 015 type 함수\n",
    "# type() 함수는 데이터 타입을 판별합니다. 변수 a에는 128 숫자가 바인딩돼 있어 type 함수가 int (정수)형임을 알려줍니다.\n",
    "\n",
    "# >> a = 128\n",
    "# >> print (type(a))\n",
    "# <class 'int'>\n",
    "# 아래 변수에 바인딩된 값의 타입을 판별해보세요.\n",
    "\n",
    "# >> a = \"132\"\n"
   ]
  },
  {
   "cell_type": "code",
   "execution_count": null,
   "metadata": {},
   "outputs": [],
   "source": [
    "# 016 문자열을 정수로 변환\n",
    "# 문자열 '720'를 정수형으로 변환해보세요.\n",
    "\n",
    "# >> num_str = \"720\"\n",
    "\n",
    "num_str = \"720\"\n",
    "int(num_str)\n",
    "print(type(num_str))\n"
   ]
  },
  {
   "cell_type": "code",
   "execution_count": null,
   "metadata": {},
   "outputs": [],
   "source": [
    "# 017 정수를 문자열 100으로 변환\n",
    "# 정수 100을 문자열 '100'으로 변환해보세요.\n",
    "\n",
    "# num = 100\n",
    "\n",
    "num = 100\n",
    "num_str = str(num)\n",
    "print(num_str, type(num_str))"
   ]
  },
  {
   "cell_type": "code",
   "execution_count": null,
   "metadata": {},
   "outputs": [],
   "source": [
    "# 018 문자열을 실수로 변환\n",
    "# 문자열 \"15.79\"를 실수(float) 타입으로 변환해보세요.\n",
    "\n",
    "num = \"15.79\"\n",
    "num_float = (float(num))\n",
    "print(num_float, type(num_float))"
   ]
  },
  {
   "cell_type": "code",
   "execution_count": null,
   "metadata": {},
   "outputs": [],
   "source": [
    "# 019 문자열을 정수로 변환\n",
    "# year라는 변수가 문자열 타입의 연도를 바인딩하고 있습니다. 이를 정수로 변환한 후 최근 3년의 연도를 화면에 출력해보세요.\n",
    "\n",
    "# year = \"2020\"\n",
    "\n",
    "year = \"2020\"\n",
    "year_int = int(year)\n",
    "print(year_int-1,year_int, year_int+1 )"
   ]
  },
  {
   "cell_type": "code",
   "execution_count": null,
   "metadata": {},
   "outputs": [],
   "source": [
    "# 020 파이썬 계산\n",
    "# 에이컨이 월 48,584원에 무이자 36개월의 조건으로 홈쇼핑에서 판매되고 있습니다. 총 금액은 계산한 후 이를 화면에 출력해보세요. (변수사용하기)\n",
    "\n",
    "month_price = 48584\n",
    "installment_month = 36\n",
    "interest =  0\n",
    "\n",
    "total_money = month_price * installment_month + interest\n",
    "print(total_money)\n",
    "\n",
    "\n",
    "\n"
   ]
  },
  {
   "cell_type": "code",
   "execution_count": null,
   "metadata": {},
   "outputs": [],
   "source": [
    "# 021 문자열 인덱싱\n",
    "# letters가 바인딩하는 문자열에서 첫번째와 세번째 문자를 출력하세요.\n",
    "\n",
    "# >> letters = 'python'\n",
    "# 실행 예\n",
    "# p t\n",
    "\n",
    "letters = 'python'\n",
    "print(letters[0], letters[2])"
   ]
  },
  {
   "cell_type": "code",
   "execution_count": null,
   "metadata": {},
   "outputs": [],
   "source": [
    "# 022 문자열 슬라이싱 \n",
    "# 자동차 번호가 다음과 같을 때 뒤에 4자리만 출력하세요.\n",
    "\n",
    "# >> license_plate = \"24가 2210\"\n",
    "# 실행 예: 2210\n",
    "\n",
    "license_plate = \"24가 2210\"\n",
    "print(license_plate[-4:])\n"
   ]
  },
  {
   "cell_type": "code",
   "execution_count": null,
   "metadata": {},
   "outputs": [],
   "source": [
    "# 023 문자열 인덱싱 important\n",
    "# 아래의 문자열에서 '홀' 만 출력하세요.\n",
    "\n",
    "# >> string = \"홀짝홀짝홀짝\"\n",
    "# 실행 예:\n",
    "# 홀홀홀\n",
    "\n",
    "\n",
    "\n",
    "\n",
    "\n",
    "# 슬라이싱할 때 시작인덱스:끝인덱스:오프셋을 지정할 수 있습니다.\n",
    "\n",
    "string = \"홀짝홀짝홀짝\"\n",
    "print(string[::2]) #하나입력하고, 오프셋값만큼 띄운값 입력하고 [ 시작값: 엔딩값 : 오프셋값]"
   ]
  },
  {
   "cell_type": "code",
   "execution_count": null,
   "metadata": {},
   "outputs": [],
   "source": [
    "# 024 문자열 슬라이싱 important\n",
    "# 문자열을 거꾸로 뒤집어 출력하세요.\n",
    "\n",
    "# >> string = \"PYTHON\"\n",
    "# 실행 예:\n",
    "# NOHTYP\n",
    "\n",
    "string = \"PYTHON\"\n",
    "print(string[::-1])"
   ]
  },
  {
   "cell_type": "code",
   "execution_count": null,
   "metadata": {},
   "outputs": [],
   "source": [
    "# 025 문자열 치환 important\n",
    "# 아래의 전화번호에서 하이푼 ('-')을 제거하고 출력하세요.\n",
    "\n",
    "# >> phone_number = \"010-1111-2222\"\n",
    "# 실행 예\n",
    "# 010 1111 2222\n",
    "\n",
    "# 파이썬 문자열에서 replace 메서드를 사용하면 문자열을 일부를 치환할 수 있습니다. 문자열은 수정할 수 없는 자료형이므로 기존 문자열은 그대로 두고 치환된 새로운 문자열이 리턴됩니다.\n",
    "phone_number = \"010-1111-2222\"\n",
    "print(phone_number.replace(\"-\",\" \"))\n"
   ]
  },
  {
   "cell_type": "code",
   "execution_count": null,
   "metadata": {},
   "outputs": [],
   "source": [
    "# 026 문자열 다루기\n",
    "# 25번 문제의 전화번호를 아래와 같이 모두 붙여 출력하세요.\n",
    "\n",
    "# 실행 예\n",
    "# 01011112222\n",
    "\n",
    "phone_number = \"010-1111-2222\"\n",
    "print(phone_number.replace(\"-\",\"\"))\n"
   ]
  },
  {
   "cell_type": "code",
   "execution_count": null,
   "metadata": {},
   "outputs": [],
   "source": [
    "# 027 문자열 다루기 important\n",
    "# url 에 저장된 웹 페이지 주소에서 도메인을 출력하세요.\n",
    "\n",
    "# >> url = \"http://sharebook.kr\"\n",
    "# 실행 예:\n",
    "# kr\n",
    "\n",
    "\n",
    "#내가생각한답안\n",
    "url = \"http://sharebook.kr\"\n",
    "url_del_dat = url[url.find(\".\")+1:]\n",
    "print(url_del_dat)\n",
    "\n",
    "\n",
    "#정답안\n",
    "\n",
    "\n",
    "# 문자열로 표현된 url에서 .을 기준으로 분리합니다. 분리된 url 중 마지막을 인덱싱하면 도메인만 출력할 수 있습니다.\n",
    "url = \"http://sharebook.kr\"\n",
    "url_split = url.split('.') #스플릿되면 리스트로 분리된다\n",
    "print(url_split[-1])#리스트의 마지막 항목만을 출력한다"
   ]
  },
  {
   "cell_type": "code",
   "execution_count": null,
   "metadata": {},
   "outputs": [],
   "source": [
    "# 028 문자열은 important\n",
    "# 아래 코드의 실행 결과를 예상해보세요.\n",
    "\n",
    "# >> lang = 'python'\n",
    "# >> lang[0] = 'P'\n",
    "# >> print(lang)\n",
    "\n",
    "# 문자열은 수정할 수 없습니다. 실행 결과를 확인해보면 문자열이 할당(assignment) 메서드를 지원하지 않음을 알 수 있습니다.\n",
    "lang = 'python'\n",
    "print(lang[0])\n",
    "lang[0] = 'P'\n",
    "print(lang)"
   ]
  },
  {
   "cell_type": "code",
   "execution_count": null,
   "metadata": {},
   "outputs": [],
   "source": [
    "# 029 replace 메서드\n",
    "# 아래 문자열에서 소문자 'a'를 대문자 'A'로 변경하세요.\n",
    "\n",
    "# >> string = 'abcdfe2a354a32a'\n",
    "# 실행 예:\n",
    "# Abcdfe2A354A32A\n",
    "\n",
    "\n",
    "string = 'abcdfe2a354a32a'\n",
    "print(string.replace(\"a\",\"A\"))"
   ]
  },
  {
   "cell_type": "code",
   "execution_count": null,
   "metadata": {},
   "outputs": [],
   "source": [
    "# 030 replace 메서드 important\n",
    "# 아래 코드의 실행 결과를 예상해보세요.\n",
    "\n",
    "\n",
    "# >> string = 'abcd'\n",
    "# >> string.replace('b', 'B')\n",
    "# >> print(string)\n",
    "\n",
    "\n",
    "#abcd가 그대로 출력됩니다. 왜냐하면 문자열은 변경할 수 없는 자료형이기 때문입니다. replace 메서드를 사용하면 원본은 그대로 둔채로 변경된 새로운 문자열 객체를 리턴해줍니다.\n",
    "string = 'abcd'\n",
    "string.replace('b', 'B') #비파괴적인 변환이다\n",
    "print(string)"
   ]
  },
  {
   "cell_type": "code",
   "execution_count": null,
   "metadata": {},
   "outputs": [],
   "source": [
    "# 031 문자열 합치기\n",
    "# 아래 코드의 실행 결과를 예상해보세요.\n",
    "\n",
    "# >> a = \"3\"\n",
    "# >> b = \"4\"\n",
    "# >> print(a + b)\n",
    "\n",
    "\n",
    "a = \"3\"\n",
    "b = \"4\"\n",
    "print(a + b)\n"
   ]
  },
  {
   "cell_type": "code",
   "execution_count": null,
   "metadata": {},
   "outputs": [],
   "source": [
    "# 032 문자열 곱하기\n",
    "# 아래 코드의 실행 결과를 예상해보세요.\n",
    "\n",
    "# >> print(\"Hi\" * 3)\n",
    "\n",
    "print(\"Hi\" * 3)\n"
   ]
  },
  {
   "cell_type": "code",
   "execution_count": null,
   "metadata": {},
   "outputs": [],
   "source": [
    "# 033 문자열 곱하기\n",
    "# 화면에 '-'를 80개 출력하세요.\n",
    "\n",
    "# 실행 예:\n",
    "# --------------------------------------------------------------------------------\n",
    "\n",
    "print(\"-\"*80)"
   ]
  },
  {
   "cell_type": "code",
   "execution_count": null,
   "metadata": {},
   "outputs": [],
   "source": [
    "# 034 문자열 곱하기 important (아또 이생각은 못해봤네)\n",
    "# 변수에 다음과 같은 문자열이 바인딩되어 있습니다.\n",
    "\n",
    "# >>> t1 = 'python'\n",
    "# >>> t2 = 'java'\n",
    "# 변수에 문자열 더하기와 문자열 곱하기를 사용해서 아래와 같이 출력해보세요.\n",
    "\n",
    "# 실행 예:\n",
    "# python java python java python java python java\n",
    "\n",
    "\n",
    "t1 = 'python'\n",
    "t2 = 'java'\n",
    "t3 = t1 + ' ' + t2 + ' '\n",
    "print(t3 * 4)\n"
   ]
  },
  {
   "cell_type": "code",
   "execution_count": null,
   "metadata": {},
   "outputs": [],
   "source": [
    "# 035 문자열 출력 important (포맷팅에는 %포맷팅 방법도 있구만)\n",
    "# 변수에 다음과 같이 문자열과 정수가 바인딩되어 있을 때 % formatting을 사용해서 다음과 같이 출력해보세요.\n",
    "\n",
    "# name1 = \"김민수\" \n",
    "# age1 = 10\n",
    "# name2 = \"이철희\"\n",
    "# age2 = 13\n",
    "# 이름: 김민수 나이: 10\n",
    "# 이름: 이철희 나이: 13\n",
    "\n",
    "\n",
    "name1 = \"김민수\" \n",
    "age1 = 10\n",
    "name2 = \"이철희\"\n",
    "age2 = 13\n",
    "\n",
    "print(\"이름: {0} 나이: {1}\".format(name1,age1))\n",
    "\n",
    "\n",
    "\n",
    "# print 포맷팅에서 %s는 문자열 데이터 타입의 값을 %d는 정수형 데이터 타입 값의 출력을 의미합니다.\n",
    "print(\"이름: %s 나이: %d\" % (name1, age1))\n"
   ]
  },
  {
   "cell_type": "code",
   "execution_count": null,
   "metadata": {},
   "outputs": [],
   "source": [
    "# 036 문자열 출력 (아내가 푼방법이 이거였구만...)\n",
    "# 문자열의 format( ) 메서드를 사용해서 035번 문제를 다시 풀어보세요.\n",
    "\n",
    "name1 = \"김민수\" \n",
    "age1 = 10\n",
    "name2 = \"이철희\"\n",
    "age2 = 13\n",
    "\n",
    "print(\"이름: {0} 나이: {1}\".format(name1,age1))"
   ]
  },
  {
   "cell_type": "code",
   "execution_count": null,
   "metadata": {},
   "outputs": [],
   "source": [
    "# 037 문자열 출력  important (아이거는 포맷팅 축약해서 쓰는방법이구만...)\n",
    "# 파이썬 3.6부터 지원하는 f-string을 사용해서 035번 문제를 다시 풀어보세요.\n",
    "\n",
    "name1 = \"김민수\" \n",
    "age1 = 10\n",
    "name2 = \"이철희\"\n",
    "age2 = 13\n",
    "\n",
    "\n",
    "# f-string은 문자열 앞에 f가 붙은 형태입니다. f-string을 사용하면 {변수}와 같은 형태로 문자열 사이에 타입과 상관없이 값을 출력할 수 있습니다.\n",
    "print(f\"이름: {name1} 나이: {age1}\")\n",
    "\n"
   ]
  },
  {
   "cell_type": "code",
   "execution_count": null,
   "metadata": {},
   "outputs": [],
   "source": [
    "# 038 컴마 제거하기\n",
    "# 삼성전자의 상장주식수가 다음과 같습니다. 컴마를 제거한 후 이를 정수 타입으로 변환해보세요.\n",
    "\n",
    "# 상장주식수 = \"5,969,782,550\"\n",
    "\n",
    "listed_stocks_count = \"5,969,782,550\"\n",
    "listed_stocks_count_dat_del = listed_stocks_count.replace(\",\",\"\")\n",
    "print(int(listed_stocks_count_dat_del))"
   ]
  },
  {
   "cell_type": "code",
   "execution_count": null,
   "metadata": {},
   "outputs": [],
   "source": [
    "# 039 문자열 슬라이싱   (여러 방법이 있구만....)\n",
    "# 다음과 같은 문자열에서 '2020/03'만 출력하세요.\n",
    "\n",
    "# 분기 = \"2020/03(E) (IFRS연결)\"\n",
    "\n",
    "quarter = \"2020/03(E) (IFRS연결)\"\n",
    "quarter_chang = quarter.split(\"(\")\n",
    "print(quarter_chang[0])\n",
    "\n",
    "\n",
    "# 문자열에서 슬라이싱을 사용하면 여러 글자를 접근할 수 있습니다.\n",
    "\n",
    "분기 = \"2020/03(E) (IFRS연결)\"\n",
    "print(분기[:7])\n"
   ]
  },
  {
   "cell_type": "code",
   "execution_count": null,
   "metadata": {},
   "outputs": [],
   "source": [
    "# 040 strip 메서드 important (몰랏던 새로운 방법이구만;;)\n",
    "# 문자열의 좌우의 \n",
    "# 이 있을 때 이를 제거해보세요.\n",
    "\n",
    "# data = \"   삼성전자    \"\n",
    "\n",
    "\n",
    "\n",
    "# 문자열에서 strip( ) 메서드를 사용하면 좌우의 공백을 제거할 수 있습니다. 이때 원본 문자열은 그대로 유지되고 공백이 제거된 새로운 문자열이 반환됩니다.\n",
    "data = \"   삼성전자    \"\n",
    "print(data.strip(\" \"))"
   ]
  },
  {
   "cell_type": "code",
   "execution_count": null,
   "metadata": {},
   "outputs": [],
   "source": [
    "# 041 upper 메서드\n",
    "# 다음과 같은 문자열이 있을 때 이를 대문자 BTC_KRW로 변경하세요.\n",
    "\n",
    "# ticker = \"btc_krw\"\n",
    "\n",
    "ticker = \"btc_krw\"\n",
    "print(ticker.upper())"
   ]
  },
  {
   "cell_type": "code",
   "execution_count": null,
   "metadata": {},
   "outputs": [],
   "source": [
    "# 042 lower 메서드\n",
    "# 다음과 같은 문자열이 있을 때 이를 소문자 btc_krw로 변경하세요.\n",
    "\n",
    "# ticker = \"BTC_KRW\"\n",
    "\n",
    "ticker = \"btc_krw\"\n",
    "print(ticker.lower())"
   ]
  },
  {
   "cell_type": "code",
   "execution_count": null,
   "metadata": {},
   "outputs": [],
   "source": [
    "# 043 capitalize 메서드 important (첨본다...)\n",
    "# 문자열 'hello'가 있을 때 이를 'Hello'로 변경해보세요.\n",
    "\n",
    "a = \"hello\"\n",
    "print(a.capitalize()) #문자열의 첫글자를 대문자로 해준다"
   ]
  },
  {
   "cell_type": "code",
   "execution_count": null,
   "metadata": {},
   "outputs": [],
   "source": [
    "# 044 endswith 메서드  important (첨본다...)\n",
    "# 파일 이름이 문자열로 저장되어 있을 때 endswith 메서드를 사용해서 파일 이름이 'xlsx'로 끝나는지 확인해보세요.\n",
    "\n",
    "# file_name = \"보고서.xlsx\"\n",
    "\n",
    "\n",
    "file_name = \"보고서.xlsx\"\n",
    "file_name.endswith(\"xlsx\") #변수의 마지막 이름이 \" 키값 \" 키값인지 확인함 불값으로 나온다"
   ]
  },
  {
   "cell_type": "code",
   "execution_count": null,
   "metadata": {},
   "outputs": [],
   "source": [
    "# 045 endswith 메서드 important (첨본다...)\n",
    "# 파일 이름이 문자열로 저장되어 있을 때 endswith 메서드를 사용해서 파일 이름이 'xlsx' 또는 'xls'로 끝나는지 확인해보세요.\n",
    "\n",
    "# file_name = \"보고서.xlsx\"\n",
    "\n",
    "\n",
    "file_name = \"보고서.xls\"\n",
    "file_name.endswith((\"xlsx\", \"xls\")) #괄호로 꼭묶어 줘야한다\n"
   ]
  },
  {
   "cell_type": "code",
   "execution_count": null,
   "metadata": {},
   "outputs": [],
   "source": [
    "# 046 startswith 메서드 important (첨본다...)\n",
    "# 파일 이름이 문자열로 저장되어 있을 때 startswith 메서드를 사용해서 파일 이름이 '2020'로 시작하는지 확인해보세요.\n",
    "\n",
    "# file_name = \"2020_보고서.xlsx\"\n",
    "\n",
    "\n",
    "file_name = \"2020_보고서.xlsx\"\n",
    "file_name.startswith(\"2020\")"
   ]
  },
  {
   "cell_type": "code",
   "execution_count": null,
   "metadata": {},
   "outputs": [],
   "source": [
    "# 047 split 메서드\n",
    "# 다음과 같은 문자열이 있을 때 공백을 기준으로 문자열을 나눠보세요.\n",
    "\n",
    "# a = \"hello world\"\n",
    "\n",
    "a = \"hello world\"\n",
    "b = a.split(\" \")\n",
    "print(b)\n",
    "\n",
    "\n"
   ]
  },
  {
   "cell_type": "code",
   "execution_count": null,
   "metadata": {},
   "outputs": [],
   "source": [
    "# 048 split 메서드\n",
    "# 다음과 같이 문자열이 있을 때 btc와 krw로 나눠보세요.\n",
    "\n",
    "# ticker = \"btc_krw\"\n",
    "\n",
    "ticker = \"btc_krw\"\n",
    "print(ticker.split(\"_\"))"
   ]
  },
  {
   "cell_type": "code",
   "execution_count": null,
   "metadata": {},
   "outputs": [],
   "source": [
    "# 049 split 메서드\n",
    "# 다음과 같이 날짜를 표현하는 문자열이 있을 때 연도, 월, 일로 나눠보세요.\n",
    "\n",
    "# date = \"2020-05-01\"\n",
    "\n",
    "date = \"2020-05-01\"\n",
    "date2 = date.split(\"-\")\n",
    "print(\"연:\" , date2[0] )\n",
    "print(\"월:\" , date2[1] )\n",
    "print(\"일:\" , date2[2] )\n"
   ]
  },
  {
   "cell_type": "code",
   "execution_count": null,
   "metadata": {},
   "outputs": [],
   "source": [
    "# 050 rstrip 메서드 important (strip의 다양한 공백제거)\n",
    "# 문자열의 오른쪽에 공백이 있을 때 이를 제거해보세요.\n",
    "\n",
    "# data = \"039490     \"\n",
    "\n",
    "data = \"    039490     \"\n",
    "print(data.strip()) #스트립은전체공백을 없애준다\n",
    "\n",
    "\n",
    "print(data.rstrip()) #리스트립은 오른쪽만 공백을 없애준다\n",
    "\n",
    "\n",
    "print(data.lstrip()) #리스트립은 왼쪽만 공백을 없애준다\n",
    "\n"
   ]
  },
  {
   "cell_type": "code",
   "execution_count": null,
   "metadata": {},
   "outputs": [],
   "source": [
    "# 051 리스트 생성\n",
    "# 2016년 11월 영화 예매 순위 기준 top3는 다음과 같습니다. 영화 제목을 movie_rank 이름의 리스트에 저장해보세요. (순위 정보는 저장하지 않습니다.)\n",
    "\n",
    "# 순위\t영화\n",
    "# 1\t닥터 스트레인지\n",
    "# 2\t스플릿\n",
    "# 3\t럭키\n",
    "\n",
    "movie_rank = [\"닥터스트레인지\", \"스플릿\", \"럭키\"]\n",
    "print(movie_rank)"
   ]
  },
  {
   "cell_type": "code",
   "execution_count": null,
   "metadata": {},
   "outputs": [],
   "source": [
    "# 052 리스트에 원소 추가\n",
    "# 051의 movie_rank 리스트에 \"배트맨\"을 추가하라.\n",
    "\n",
    "movie_rank = [\"닥터스트레인지\", \"스플릿\", \"럭키\"]\n",
    "movie_rank.append(\"배트맨\")\n",
    "print(movie_rank)\n",
    "\n"
   ]
  },
  {
   "cell_type": "code",
   "execution_count": null,
   "metadata": {},
   "outputs": [],
   "source": [
    "# 053           important\n",
    "# movie_rank 리스트에는 아래와 같이 네 개의 영화 제목이 바인딩되어 있다. \"슈퍼맨\"을 \"닥터 스트레인지\"와 \"스플릿\" 사이에 추가하라.\n",
    "\n",
    "# movie_rank = ['닥터 스트레인지', '스플릿', '럭키', '배트맨']\n",
    "\n",
    "movie_rank = ['닥터 스트레인지', '스플릿', '럭키', '배트맨']\n",
    "movie_rank.insert(1,\"슈퍼맨\")\n",
    "print(movie_rank)\n"
   ]
  },
  {
   "cell_type": "code",
   "execution_count": null,
   "metadata": {},
   "outputs": [],
   "source": [
    "# 054           important(del 이라는 방법도 있구만)\n",
    "# movie_rank 리스트에서 '럭키'를 삭제하라.\n",
    "\n",
    "# movie_rank = ['닥터 스트레인지', '슈퍼맨', '스플릿', '럭키', '배트맨']\n",
    "\n",
    "\n",
    "movie_rank = ['닥터 스트레인지', '슈퍼맨', '스플릿', '럭키', '배트맨']\n",
    "movie_rank.pop(3)\n",
    "print(movie_rank)\n",
    "\n",
    "\n",
    "movie_rank = ['닥터 스트레인지', '슈퍼맨', '스플릿', '럭키', '배트맨']\n",
    "del movie_rank[3]\n",
    "print(movie_rank)\n"
   ]
  },
  {
   "cell_type": "code",
   "execution_count": null,
   "metadata": {},
   "outputs": [],
   "source": [
    "# 055            important(del 이라는 방법도 있구만)\n",
    "# movie_rank 리스트에서 '스플릿' 과 '배트맨'을 를 삭제하라.\n",
    "\n",
    "# movie_rank = ['닥터 스트레인지', '슈퍼맨', '스플릿', '배트맨']\n",
    "\n",
    "\n",
    "# del을 이용하여 리스트에서 원소를 삭제할 수 있습니다. 리스트에서 어떤 값을 삭제하면 남은 값들은 새로 인덱싱됩니다. (인덱싱 번호가 당겨진다는 의미)\n",
    "# 따라서 여러 값을 삭제할 때는 어떤 값이 먼저 삭제된 후 남은 원소들에 대해서 순서를 새로 고려한 후 삭제해야 합니다.\n",
    "\n",
    "movie_rank = ['닥터 스트레인지', '슈퍼맨', '스플릿', '배트맨']\n",
    "del movie_rank[2]\n",
    "del movie_rank[2]\n",
    "\n",
    "print(movie_rank)\n"
   ]
  },
  {
   "cell_type": "code",
   "execution_count": null,
   "metadata": {},
   "outputs": [],
   "source": [
    "# 056               important(리스트를 더하면 되는구나)\n",
    "# lang1과 lang2 리스트가 있을 때 lang1과 lang2의 원소를 모두 갖고 있는 langs 리스트를 만들어라.\n",
    "\n",
    "# >> lang1 = [\"C\", \"C++\", \"JAVA\"]\n",
    "# >> lang2 = [\"Python\", \"Go\", \"C#\"]\n",
    "# 실행 예:\n",
    "# >> langs\n",
    "# ['C', 'C++', 'JAVA', 'Python', 'Go', 'C#']\n",
    "\n",
    "lang1 = [\"C\", \"C++\", \"JAVA\"]\n",
    "lang2 = [\"Python\", \"Go\", \"C#\"]\n",
    "\n",
    "langs = lang1 + lang2\n",
    "print(langs)"
   ]
  },
  {
   "cell_type": "code",
   "execution_count": null,
   "metadata": {},
   "outputs": [],
   "source": [
    "# 057\n",
    "# 다음 리스트에서 최댓값과 최솟값을 출력하라. (힌트: min(), max() 함수 사용)\n",
    "\n",
    "# nums = [1, 2, 3, 4, 5, 6, 7]\n",
    "# 실행 예:\n",
    "# max:  7\n",
    "# min:  1\n",
    "\n",
    "nums = [1, 2, 3, 4, 5, 6, 7]\n",
    "print(\"max:\", max(nums))\n",
    "print(\"min:\", min(nums))\n"
   ]
  },
  {
   "cell_type": "code",
   "execution_count": null,
   "metadata": {},
   "outputs": [],
   "source": [
    "# 058           important(sum도 사용가능하구만 )\n",
    "# 다음 리스트의 합을 출력하라.\n",
    "\n",
    "# nums = [1, 2, 3, 4, 5]\n",
    "# 실행 예:\n",
    "# 15\n",
    "\n",
    "\n",
    "nums = [1, 2, 3, 4, 5]\n",
    "print(sum(nums))"
   ]
  },
  {
   "cell_type": "code",
   "execution_count": null,
   "metadata": {},
   "outputs": [],
   "source": [
    "# 059\n",
    "# 다음 리스트에 저장된 데이터의 개수를 화면에 구하하라.\n",
    "\n",
    "# cook = [\"피자\", \"김밥\", \"만두\", \"양념치킨\", \"족발\", \"피자\", \"김치만두\", \"쫄면\", \"소시지\", \"라면\", \"팥빙수\", \"김치전\"]\n",
    "\n",
    "\n",
    "cook = [\"피자\", \"김밥\", \"만두\", \"양념치킨\", \"족발\", \"피자\", \"김치만두\", \"쫄면\", \"소시지\", \"라면\", \"팥빙수\", \"김치전\"]\n",
    "print(len(cook))"
   ]
  },
  {
   "cell_type": "code",
   "execution_count": null,
   "metadata": {},
   "outputs": [],
   "source": [
    "# 060              important(sum은 있지만, 에버러지라는 함수는 없다 )\n",
    "# 다음 리스트의 평균을 출력하라.\n",
    "\n",
    "# nums = [1, 2, 3, 4, 5]\n",
    "# 실행 예:\n",
    "# 3.0\n",
    "\n",
    "nums = [1, 2, 3, 4, 5]\n",
    "print(sum(nums)/len(nums))"
   ]
  },
  {
   "cell_type": "code",
   "execution_count": null,
   "metadata": {},
   "outputs": [],
   "source": [
    "# 061\n",
    "# price 변수에는 날짜와 종가 정보가 저장돼 있다. 날짜 정보를 제외하고 가격 정보만을 출력하라. (힌트 : 슬라이싱)\n",
    "\n",
    "# price = ['20180728', 100, 130, 140, 150, 160, 170]\n",
    "# 출력 예시:\n",
    "# [100, 130, 140, 150, 160, 170]\n",
    "\n",
    "price = ['20180728', 100, 130, 140, 150, 160, 170]\n",
    "print(price[1:])"
   ]
  },
  {
   "cell_type": "code",
   "execution_count": null,
   "metadata": {},
   "outputs": [],
   "source": [
    "# 062\n",
    "# 슬라이싱을 사용해서 홀수만 출력하라.\n",
    "\n",
    "# nums = [1, 2, 3, 4, 5, 6, 7, 8, 9, 10]\n",
    "# 실행 예:\n",
    "# [1, 3, 5, 7, 9]\n",
    "\n",
    "\n",
    "nums = [1, 2, 3, 4, 5, 6, 7, 8, 9, 10]\n",
    "print(nums[::2])"
   ]
  },
  {
   "cell_type": "code",
   "execution_count": null,
   "metadata": {},
   "outputs": [],
   "source": [
    "# 063\n",
    "# 슬라이싱을 사용해서 짝수만 출력하라.\n",
    "\n",
    "# nums = [1, 2, 3, 4, 5, 6, 7, 8, 9, 10]\n",
    "# 실행 예:\n",
    "# [2, 4, 6, 8, 10]\n",
    "\n",
    "nums = [1, 2, 3, 4, 5, 6, 7, 8, 9, 10]\n",
    "print(nums[1::2])"
   ]
  },
  {
   "cell_type": "code",
   "execution_count": null,
   "metadata": {},
   "outputs": [],
   "source": [
    "# 064\n",
    "# 슬라이싱을 사용해서 리스트의 숫자를 역 방향으로 출력하라.\n",
    "\n",
    "# nums = [1, 2, 3, 4, 5]\n",
    "# 실행 예:\n",
    "# [5, 4, 3, 2, 1]\n",
    "\n",
    "nums = [1, 2, 3, 4, 5]\n",
    "print(nums[::-1])"
   ]
  },
  {
   "cell_type": "code",
   "execution_count": null,
   "metadata": {},
   "outputs": [],
   "source": [
    "# 065\n",
    "# interest 리스트에는 아래의 데이터가 바인딩되어 있다.\n",
    "\n",
    "# interest = ['삼성전자', 'LG전자', 'Naver']\n",
    "# interest 리스트를 사용하여 아래와 같이 화면에 출력하라.\n",
    "\n",
    "# 출력 예시:\n",
    "# 삼성전자 Naver\n",
    "\n",
    "interest = ['삼성전자', 'LG전자', 'Naver']\n",
    "print(interest[::2])\n",
    "\n",
    "\n",
    "interest = ['삼성전자', 'LG전자', 'Naver']\n",
    "print(interest[0], interest[2])"
   ]
  },
  {
   "cell_type": "code",
   "execution_count": null,
   "metadata": {},
   "outputs": [],
   "source": [
    "# 066 join 메서드            important(join은 리스트의 값과 값사이를 연결해서 하나의 문자열로 해주는구나 )\n",
    "# interest 리스트에는 아래의 데이터가 바인딩되어 있다.\n",
    "\n",
    "# interest = ['삼성전자', 'LG전자', 'Naver', 'SK하이닉스', '미래에셋대우']\n",
    "# interest 리스트를 사용하여 아래와 같이 화면에 출력하라.\n",
    "\n",
    "# 출력 예시:\n",
    "# 삼성전자 LG전자 Naver SK하이닉스 미래에셋대우\n",
    "\n",
    "\n",
    "# '구분자'.join(리스트)를 이용하면 리스트의 값과 값 사이에 '구분자'에 들어온 구분자를 넣어서 하나의 문자열로 합쳐줍니다.\n",
    "# '_'.join(['a', 'b', 'c']) 라 하면 \"a_b_c\" 와 같은 형태로 문자열을 만들어서 반환해 줍니다.\n",
    "\n",
    "interest = ['삼성전자', 'LG전자', 'Naver', 'SK하이닉스', '미래에셋대우']\n",
    "print(\" \".join(interest))"
   ]
  },
  {
   "cell_type": "code",
   "execution_count": null,
   "metadata": {},
   "outputs": [],
   "source": [
    "# 067 join 메서드\n",
    "# interest 리스트에는 아래의 데이터가 바인딩되어 있다.\n",
    "\n",
    "# interest = ['삼성전자', 'LG전자', 'Naver', 'SK하이닉스', '미래에셋대우']\n",
    "# interest 리스트를 사용하여 아래와 같이 화면에 출력하라.\n",
    "\n",
    "# 출력 예시:\n",
    "# 삼성전자/LG전자/Naver/SK하이닉스/미래에셋대우\n",
    "\n",
    "interest = ['삼성전자', 'LG전자', 'Naver', 'SK하이닉스', '미래에셋대우']\n",
    "print(\"/\".join(interest))"
   ]
  },
  {
   "cell_type": "code",
   "execution_count": null,
   "metadata": {},
   "outputs": [],
   "source": [
    "# 068 join 메서드\n",
    "# interest 리스트에는 아래의 데이터가 바인딩되어 있다.\n",
    "\n",
    "# interest = ['삼성전자', 'LG전자', 'Naver', 'SK하이닉스', '미래에셋대우']\n",
    "# join() 메서드를 사용해서 interest 리스트를 아래와 같이 화면에 출력하라.\n",
    "\n",
    "# 출력 예시:\n",
    "# 삼성전자\n",
    "# LG전자\n",
    "# Naver\n",
    "# SK하이닉스\n",
    "# 미래에셋대우\n",
    "\n",
    "interest = ['삼성전자', 'LG전자', 'Naver', 'SK하이닉스', '미래에셋대우']\n",
    "print(\"\\n\".join(interest))"
   ]
  },
  {
   "cell_type": "code",
   "execution_count": null,
   "metadata": {},
   "outputs": [],
   "source": [
    "# 069 문자열 split 메서드\n",
    "# 회사 이름이 슬래시 ('/')로 구분되어 하나의 문자열로 저장되어 있다.\n",
    "\n",
    "# string = \"삼성전자/LG전자/Naver\"\n",
    "# 이를 interest 이름의 리스트로 분리 저장하라.\n",
    "\n",
    "# 실행 예시\n",
    "# >> print(interest)\n",
    "# ['삼성전자', 'LG전자', 'Naver']\n",
    "\n",
    "\n",
    "string = \"삼성전자/LG전자/Naver\"\n",
    "interest = string.split(\"/\")\n",
    "print(interest)"
   ]
  },
  {
   "cell_type": "code",
   "execution_count": null,
   "metadata": {},
   "outputs": [],
   "source": [
    "# 070 리스트 정렬        important(sort는 오름차순정렬 reverse는 내림차순 정렬이다)\n",
    "# 리스트에 있는 값을 오름차순으로 정렬하세요.\n",
    "\n",
    "# data = [2, 4, 3, 1, 5, 10, 9]\n",
    "\n",
    "\n",
    "# data = [2, 4, 3, 1, 5, 10, 9] #이렇게하면 안되더라 뭔지모르겠음\n",
    "# print(data.sort())\n",
    "\n",
    "data = [2, 4, 3, 1, 5, 10, 9]\n",
    "data.sort()\n",
    "print(data)"
   ]
  },
  {
   "cell_type": "code",
   "execution_count": null,
   "metadata": {},
   "outputs": [],
   "source": [
    "# 071           important(() = 튜플, [] = 리스트, {} = 딕셔너리)\n",
    "# my_variable 이름의 비어있는 튜플을 만들라.\n",
    "\n",
    "my_variable =()"
   ]
  },
  {
   "cell_type": "code",
   "execution_count": null,
   "metadata": {},
   "outputs": [],
   "source": [
    "# 072\n",
    "# 2016년 11월 영화 예매 순위 기준 top3는 다음과 같다. 영화 제목을 movie_rank 이름의 튜플에 저장하라. (순위 정보는 저장하지 않는다.)\n",
    "\n",
    "# 순위\t영화\n",
    "# 1\t닥터 스트레인지\n",
    "# 2\t스플릿\n",
    "# 3\t럭키\n",
    "\n",
    "movie_rank = (\"닥터스트레인지\",\"스플릿\",\"럭키\")\n",
    "print(movie_rank)"
   ]
  },
  {
   "cell_type": "code",
   "execution_count": null,
   "metadata": {},
   "outputs": [],
   "source": [
    "# 073           important\n",
    "# 숫자 1 이 저장된 튜플을 생성하라.\n",
    "\n",
    "\n",
    "# 아래와 같이 괄호와 함께 하나의 정숫값을 저장하면 튜플이 정의 될 것같지만 그렇지 않습니다. type()을 출력해보면 파이썬은 튜플이 아닌 정수로 인식합니다.\n",
    "my_tuple = (1)\n",
    "print(type (my_tuple))\n",
    " \n",
    "\n",
    "# 하나의 데이터가 저장되는 경우, 아래와 같이 쉼표를 입력해만 합니다.\n",
    "my_tuple = (1, )\n",
    "print(my_tuple)\n"
   ]
  },
  {
   "cell_type": "code",
   "execution_count": null,
   "metadata": {},
   "outputs": [],
   "source": [
    "# 074            important\n",
    "# 다음 코드를 실행해보고 오류가 발생하는 원인을 설명하라.\n",
    "\n",
    "# >> t = (1, 2, 3)\n",
    "# >> t[0] = 'a'\n",
    "# Traceback (most recent call last):\n",
    "#   File \"<pyshell#46>\", line 1, in <module>\n",
    "#     t[0] = 'a'\n",
    "# TypeError: 'tuple' object does not support item assignment\n",
    "\n",
    "\n",
    "\n",
    "#tuple은 원소(element)의 값을 변경할 수 없습니다.\n",
    "t = (1, 2, 3)\n",
    "t[0] = 'a'"
   ]
  },
  {
   "cell_type": "code",
   "execution_count": null,
   "metadata": {},
   "outputs": [],
   "source": [
    "# 075\n",
    "# 아래와 같이 t에는 1, 2, 3, 4 데이터가 바인딩되어 있다. t가 바인딩하는 데이터 타입은 무엇인가?\n",
    "\n",
    "# t = 1, 2, 3, 4\n",
    "\n",
    "\n",
    "#원칙적으로 튜플은 괄호와 함께 데이터를 정의해야 하지만, 사용자 편의를 위해 괄호 없이도 동작합니다.\n",
    "t = 1, 2, 3, 4\n",
    "print(type(t))"
   ]
  },
  {
   "cell_type": "code",
   "execution_count": null,
   "metadata": {},
   "outputs": [],
   "source": [
    "# 076\n",
    "# 변수 t에는 아래와 같은 값이 저장되어 있다. 변수 t가 ('A', 'b', 'c') 튜플을 가리키도록 수정 하라.\n",
    "\n",
    "t = ('a', 'b', 'c')\n",
    "\n",
    "# 새로운 튜플을 만들고 t 라는 변수를 업데이트 해야 합니다. 기존의 튜플 ('a', 'b', 'c')은 자동으로 삭제됩니다.\n",
    "\n",
    "t = ('A', 'b', 'c')"
   ]
  },
  {
   "cell_type": "code",
   "execution_count": null,
   "metadata": {},
   "outputs": [],
   "source": [
    "# 077\n",
    "# 다음 튜플을 리스트로 변환하라.\n",
    "\n",
    "# interest = ('삼성전자', 'LG전자', 'SK Hynix')\n",
    "\n",
    "interest = ('삼성전자', 'LG전자', 'SK Hynix')\n",
    "interest_list = list(interest)\n",
    "\n",
    "print(interest_list)"
   ]
  },
  {
   "cell_type": "code",
   "execution_count": null,
   "metadata": {},
   "outputs": [],
   "source": [
    "# 078\n",
    "# 다음 리스트를 튜플로 변경하라.\n",
    "\n",
    "# interest = ['삼성전자', 'LG전자', 'SK Hynix']\n",
    "\n",
    "interest = ('삼성전자', 'LG전자', 'SK Hynix')\n",
    "interest_list = tuple(interest)\n",
    "\n",
    "print(interest_list)"
   ]
  },
  {
   "cell_type": "code",
   "execution_count": null,
   "metadata": {},
   "outputs": [],
   "source": [
    "# 079 튜플 언팩킹           important\n",
    "# 다음 코드의 실행 결과를 예상하라.\n",
    "\n",
    "# temp = ('apple', 'banana', 'cake')\n",
    "# a, b, c = temp\n",
    "# print(a, b, c)\n",
    "\n",
    "\n",
    "temp = ('apple', 'banana', 'cake')\n",
    "a, b, c = temp\n",
    "print(a, b, c)"
   ]
  },
  {
   "cell_type": "code",
   "execution_count": null,
   "metadata": {},
   "outputs": [],
   "source": [
    "# 080 range 함수            important\n",
    "# 1 부터 99까지의 정수 중 짝수만 저장된 튜플을 생성하라.\n",
    "\n",
    "# (2, 4, 6, 8 ... 98)\n",
    "\n",
    "count1000 = range(2,100,2) #이렇게하면튜플이 안되더라 음모오...\n",
    "print(count1000)\n",
    "\n",
    "\n",
    "count100 = tuple(range(2,100,2)) # 2이상 100미만의 범위에서 2의 스탭으로 생성\n",
    "print(count100)"
   ]
  },
  {
   "cell_type": "code",
   "execution_count": null,
   "metadata": {},
   "outputs": [],
   "source": [
    "# 081 별 표현식             important\n",
    "# 기본적으로 데이터 언패킹은 좌변의 변수와 우변 데이터 개수가 같아야 합니다. 하지만 star expression을 사용하면 변수의 개수가 달라도 데이터 언패킹을 할 수 있습니다.\n",
    "#  튜플에 저장된 데이터 중에서 앞에 있는 두 개의 데이터만 필요할 경우 나머지 데이터의 언패킹 코드를 작성할 필요가 없습니다.\n",
    "\n",
    "# >> a, b, *c = (0, 1, 2, 3, 4, 5)\n",
    "# >> a\n",
    "# 0\n",
    "# >> b\n",
    "# 1\n",
    "# >> c\n",
    "# [2, 3, 4, 5]\n",
    "\n",
    "\n",
    "\n",
    "# 다음과 같이 10개의 값이 저장된 scores 리스트가 있을 때, start expression을 사용하여 좌측 8개의 값을 valid_score 변수에 바인딩하여라.\n",
    "\n",
    "# scores = [8.8, 8.9, 8.7, 9.2, 9.3, 9.7, 9.9, 9.5, 7.8, 9.4]\n",
    "\n",
    "scores = [8.8, 8.9, 8.7, 9.2, 9.3, 9.7, 9.9, 9.5, 7.8, 9.4]\n",
    "\n",
    "*valid_score,_,_, = scores\n",
    "print(valid_score)"
   ]
  },
  {
   "cell_type": "code",
   "execution_count": null,
   "metadata": {},
   "outputs": [],
   "source": [
    "# 082           important\n",
    "# 다음과 같이 10개의 값이 저장된 scores 리스트가 있을 때, start expression을 사용하여 우측 8개의 값을 valid_score 변수에 바인딩하여라.\n",
    "\n",
    "# scores = [8.8, 8.9, 8.7, 9.2, 9.3, 9.7, 9.9, 9.5, 7.8, 9.4]\n",
    "\n",
    "\n",
    "scores = [8.8, 8.9, 8.7, 9.2, 9.3, 9.7, 9.9, 9.5, 7.8, 9.4]\n",
    "a, b, *valid_score = scores\n",
    "print(valid_score)"
   ]
  },
  {
   "cell_type": "code",
   "execution_count": null,
   "metadata": {},
   "outputs": [],
   "source": [
    "# 083\n",
    "# 다음과 같이 10개의 값이 저장된 scores 리스트가 있을 때, start expression을 사용하여 가운데 있는 8개의 값을 valid_score 변수에 바인딩하여라.\n",
    "\n",
    "# scores = [8.8, 8.9, 8.7, 9.2, 9.3, 9.7, 9.9, 9.5, 7.8, 9.4]\n",
    "\n",
    "\n",
    "scores = [8.8, 8.9, 8.7, 9.2, 9.3, 9.7, 9.9, 9.5, 7.8, 9.4]\n",
    "a,*valid_score,b = scores\n",
    "\n",
    "print(valid_score)"
   ]
  },
  {
   "cell_type": "code",
   "execution_count": null,
   "metadata": {},
   "outputs": [],
   "source": [
    "# 084 비어있는 딕셔너리\n",
    "# temp 이름의 비어있는 딕셔너리를 만들라.\n",
    "\n",
    "\n",
    "temp ={}"
   ]
  },
  {
   "cell_type": "code",
   "execution_count": null,
   "metadata": {},
   "outputs": [],
   "source": [
    "# 085\n",
    "# 다음 아이스크림 이름과 희망 가격을 딕셔너리로 구성하라.\n",
    "\n",
    "# 이름\t희망 가격\n",
    "# 메로나\t1000\n",
    "# 폴라포\t1200\n",
    "# 빵빠레\t1800\n",
    "\n",
    "dic = {\"메로나\":1000,\"폴라포\":1200,\"빵빠레\":1800}\n",
    "print(type(dic))\n",
    "print(dic)"
   ]
  },
  {
   "cell_type": "code",
   "execution_count": null,
   "metadata": {},
   "outputs": [],
   "source": [
    "# 086   important   딕셔너리에 추가는 변수[ 키 ] = 값 로 처리한다\n",
    "# 085 번의 딕셔너리에 아래 아이스크림 가격정보를 추가하라.\n",
    "\n",
    "# 이름\t희망 가격\n",
    "# 죠스바\t1200\n",
    "# 월드콘\t1500\n",
    "\n",
    "dic = {\"메로나\":1000,\"폴라포\":1200,\"빵빠레\":1800}\n",
    "dic[\"죠스바\"] = 1200\n",
    "dic[\"월드콘\"] = 1500\n",
    "print(type(dic))\n",
    "print(dic)"
   ]
  },
  {
   "cell_type": "code",
   "execution_count": null,
   "metadata": {},
   "outputs": [],
   "source": [
    "# 087           important 호출도 []로 처리\n",
    "# 다음 딕셔너리를 사용하여 메로나 가격을 출력하라.\n",
    "\n",
    "# ice = {'메로나': 1000,\n",
    "#        '폴로포': 1200,\n",
    "#        '빵빠레': 1800,\n",
    "#        '죠스바': 1200,\n",
    "#        '월드콘': 1500}\n",
    "# 실행 예:\n",
    "# 메로나 가격: 1000\n",
    "\n",
    "ice = {'메로나': 1000,\n",
    "       '폴로포': 1200,\n",
    "       '빵빠레': 1800,\n",
    "       '죠스바': 1200,\n",
    "       '월드콘': 1500}\n",
    "print(\"메로나 가격:\", ice[\"메로나\"])"
   ]
  },
  {
   "cell_type": "code",
   "execution_count": null,
   "metadata": {},
   "outputs": [],
   "source": [
    "# 088   important  변경도 []로 처리\n",
    "# 다음 딕셔너리에서 메로나의 가격을 1300으로 수정하라.\n",
    "\n",
    "# ice = {'메로나': 1000,\n",
    "#        '폴로포': 1200,\n",
    "#        '빵빠레': 1800,\n",
    "#        '죠스바': 1200,\n",
    "#        '월드콘': 1500}\n",
    "\n",
    "\n",
    "ice = {'메로나': 1000,\n",
    "       '폴로포': 1200,\n",
    "       '빵빠레': 1800,\n",
    "       '죠스바': 1200,\n",
    "       '월드콘': 1500}\n",
    "\n",
    "ice[\"메로나\"] = 1300\n",
    "\n",
    "print(ice)"
   ]
  },
  {
   "cell_type": "code",
   "execution_count": null,
   "metadata": {},
   "outputs": [],
   "source": [
    "# 089       important 삭제할떄는 del쓰고 한칸 띄우고...\n",
    "# 다음 딕셔너리에서 메로나를 삭제하라.\n",
    "\n",
    "# ice = {'메로나': 1000,\n",
    "#        '폴로포': 1200,\n",
    "#        '빵빠레': 1800,\n",
    "#        '죠스바': 1200,\n",
    "#        '월드콘': 1500}\n",
    "\n",
    "ice = {'메로나': 1000,\n",
    "       '폴로포': 1200,\n",
    "       '빵빠레': 1800,\n",
    "       '죠스바': 1200,\n",
    "       '월드콘': 1500}\n",
    "\n",
    "del ice[\"메로나\"]\n",
    "print(ice)\n"
   ]
  },
  {
   "cell_type": "code",
   "execution_count": null,
   "metadata": {},
   "outputs": [],
   "source": [
    "# 090\n",
    "# 다음 코드에서 에러가 발생한 원인을 설명하라.\n",
    "\n",
    "# >> icecream = {'폴라포': 1200, '빵빠레': 1800, '월드콘': 1500, '메로나': 1000}\n",
    "# >> icecream['누가바']\n",
    "# Traceback (most recent call last):\n",
    "#   File \"<pyshell#69>\", line 1, in <module>\n",
    "#     icecream['누가바']\n",
    "# KeyError: '누가바'\n",
    "\n",
    "# 딕셔너리에 없는 키를 사용해서 인덱싱하면 에러가 발생합니다.\n",
    "\n",
    "# >> icecream = {'폴라포': 1200, '빵빠레': 1800, '월드콘': 1500, '메로나': 1000}\n",
    "# >> icecream['누가바']\n",
    "\n",
    "# Traceback (most recent call last):\n",
    "#   File \"<pyshell#69>\", line 1, in <module>\n",
    "#     icecream['누가바']\n",
    "\n",
    "# KeyError: '누가바'"
   ]
  },
  {
   "cell_type": "code",
   "execution_count": null,
   "metadata": {},
   "outputs": [],
   "source": [
    "# 091 딕셔너리 생성\n",
    "# 아래의 표에서, 아이스크림 이름을 키값으로, (가격, 재고) 리스트를 딕셔너리의 값으로 저장하라. 딕셔너리의 이름은 inventory로 한다.\n",
    "\n",
    "# 이름\t가격\t재고\n",
    "# 메로나\t300\t20\n",
    "# 비비빅\t400\t3\n",
    "# 죠스바\t250\t100\n",
    "\n",
    "inventory = {\"메로나\":[300,20],\n",
    "             \"비비빅\":[400,3],\n",
    "             \"죠스바\":[250,100]}\n",
    "\n",
    "print(inventory)"
   ]
  },
  {
   "cell_type": "code",
   "execution_count": null,
   "metadata": {},
   "outputs": [],
   "source": [
    "# 092 딕셔너리 인덱싱   important 키값이 리스트형식일때는 [][] 인덱싱을 두번해 하나의 값만 출력할수 있음... 뭐냐 이건\n",
    "# inventory 딕셔너리에서 메로나의 가격을 화면에 출력하라.\n",
    "\n",
    "# inventory = {\"메로나\": [300, 20],\n",
    "#               \"비비빅\": [400, 3],\n",
    "#               \"죠스바\": [250, 100]}\n",
    "# 실행 예시:\n",
    "# 300 원\n",
    "\n",
    "\n",
    "inventory = {\"메로나\": [300, 20],\n",
    "              \"비비빅\": [400, 3],\n",
    "              \"죠스바\": [250, 100]}\n",
    "\n",
    "print(inventory[\"메로나\"][0], \"원\")"
   ]
  },
  {
   "cell_type": "code",
   "execution_count": null,
   "metadata": {},
   "outputs": [],
   "source": [
    "# 093 딕셔너리 인덱싱\n",
    "# inventory 딕셔너리에서 메로나의 재고를 화면에 출력하라.\n",
    "\n",
    "# inventory = {\"메로나\": [300, 20],\n",
    "#               \"비비빅\": [400, 3],\n",
    "#               \"죠스바\": [250, 100]}\n",
    "# 실행 예시:\n",
    "# 20 개\n",
    "\n",
    "inventory = {\"메로나\": [300, 20],\n",
    "              \"비비빅\": [400, 3],\n",
    "              \"죠스바\": [250, 100]}\n",
    "print(inventory[\"메로나\"][1], \"개\")"
   ]
  },
  {
   "cell_type": "code",
   "execution_count": null,
   "metadata": {},
   "outputs": [],
   "source": [
    "# 094 딕셔너리 추가\n",
    "# inventory 딕셔너리에 아래 데이터를 추가하라.\n",
    "\n",
    "# inventory = {\"메로나\": [300, 20],\n",
    "#               \"비비빅\": [400, 3],\n",
    "#               \"죠스바\": [250, 100]}\n",
    "# 이름\t가격\t재고\n",
    "# 월드콘\t500\t7\n",
    "# 실행 예시:\n",
    "# >> print(inventory)\n",
    "# {'메로나': [300, 20], '비비빅': [400, 3], '죠스바': [250, 100], '월드콘': [500, 7]}\n",
    "\n",
    "inventory = {\"메로나\": [300, 20],\n",
    "              \"비비빅\": [400, 3],\n",
    "              \"죠스바\": [250, 100]}\n",
    "\n",
    "inventory[\"월드콘\"]=[500,2] \n",
    "print(inventory)"
   ]
  },
  {
   "cell_type": "code",
   "execution_count": null,
   "metadata": {},
   "outputs": [],
   "source": [
    "# 095 딕셔너리 keys() 메서드\n",
    "# 다음의 딕셔너리로부터 key 값으로만 구성된 리스트를 생성하라.\n",
    "\n",
    "# icecream = {'탱크보이': 1200, '폴라포': 1200, '빵빠레': 1800, '월드콘': 1500, '메로나': 1000}\n",
    "\n",
    "icecream = {'탱크보이': 1200, '폴라포': 1200, '빵빠레': 1800, '월드콘': 1500, '메로나': 1000}\n",
    "\n",
    "key_icecream = list(icecream.keys())\n",
    "\n",
    "print(key_icecream)"
   ]
  },
  {
   "cell_type": "code",
   "execution_count": null,
   "metadata": {},
   "outputs": [],
   "source": [
    "# 096 딕셔너리 values() 메서드\n",
    "# 다음의 딕셔너리에서 values 값으로만 구성된 리스트를 생성하라.\n",
    "\n",
    "# icecream = {'탱크보이': 1200, '폴라포': 1200, '빵빠레': 1800, '월드콘': 1500, '메로나': 1000}\n",
    "\n",
    "icecream = {'탱크보이': 1200, '폴라포': 1200, '빵빠레': 1800, '월드콘': 1500, '메로나': 1000}\n",
    "key_icecream = list(icecream.values())\n",
    "print(key_icecream)"
   ]
  },
  {
   "cell_type": "code",
   "execution_count": null,
   "metadata": {},
   "outputs": [],
   "source": [
    "# 097 딕셔너리 values() 메서드\n",
    "# icecream 딕셔너리에서 아이스크림 판매 금액의 총합을 출력하라.\n",
    "\n",
    "# icecream = {'탱크보이': 1200, '폴라포': 1200, '빵빠레': 1800, '월드콘': 1500, '메로나': 1000}\n",
    "# 출력 예시:\n",
    "# 6700\n",
    "\n",
    "\n",
    "icecream = {'탱크보이': 1200, '폴라포': 1200, '빵빠레': 1800, '월드콘': 1500, '메로나': 1000}\n",
    "\n",
    "print(sum(list(icecream.values())), \"총합은 원이다\")\n",
    "\n",
    "print(sum(icecream.values()))\n",
    "\n"
   ]
  },
  {
   "cell_type": "code",
   "execution_count": null,
   "metadata": {},
   "outputs": [],
   "source": [
    "# 098 딕셔너리 update 메서드\n",
    "# 아래의 new_product 딕셔너리를 다음 icecream 딕셔너리에 추가하라.\n",
    "\n",
    "# icecream = {'탱크보이': 1200, '폴라포': 1200, '빵빠레': 1800, '월드콘': 1500, '메로나': 1000}\n",
    "# new_product = {'팥빙수':2700, '아맛나':1000}\n",
    "# 실행 예시:\n",
    "# >> print(icecream)\n",
    "# {'탱크보이': 1200,  '폴라포': 1200,  '빵빠레': 1800,  '월드콘': 1500,  '메로나': 1000,  '팥빙수':2700, '아맛나':1000}\n",
    "\n",
    "icecream = {'탱크보이': 1200, '폴라포': 1200, '빵빠레': 1800, '월드콘': 1500, '메로나': 1000}\n",
    "new_product = {'팥빙수':2700, '아맛나':1000}\n",
    "\n",
    "icecream.update(new_product)\n",
    "print(icecream)"
   ]
  },
  {
   "cell_type": "code",
   "execution_count": null,
   "metadata": {},
   "outputs": [],
   "source": [
    "# 099 zip과 dict            important\n",
    "# 아래 두 개의 튜플을 하나의 딕셔너리로 변환하라. keys를 키로, vals를 값으로 result 이름의 딕셔너리로 저장한다.\n",
    "\n",
    "# keys = (\"apple\", \"pear\", \"peach\")\n",
    "# vals = (300, 250, 400)\n",
    "# 실행 예시:\n",
    "# >> print(result)\n",
    "# {'apple': 300, 'pear': 250, 'peach': 400}\n",
    "\n",
    "\n",
    "keys = (\"apple\", \"pear\", \"peach\")\n",
    "vals = (300, 250, 400)\n",
    "\n",
    "new = dict(zip(keys,vals))\n",
    "print(new)\n"
   ]
  },
  {
   "cell_type": "code",
   "execution_count": null,
   "metadata": {},
   "outputs": [],
   "source": [
    "# 100 zip과 dict\n",
    "# date와 close_price 두 개의 리스트를 close_table 이름의 딕셔너리로 생성하라.\n",
    "\n",
    "# date = ['09/05', '09/06', '09/07', '09/08', '09/09']\n",
    "# close_price = [10500, 10300, 10100, 10800, 11000]\n",
    "# 실행 예시:\n",
    "# >> print(close_table)\n",
    "# {'09/05': 10500, '09/06': 10300, '09/07': 10100, '09/08': 10800, '09/09': 11000}\n",
    "\n",
    "date = ['09/05', '09/06', '09/07', '09/08', '09/09']\n",
    "close_price = [10500, 10300, 10100, 10800, 11000]\n",
    "\n",
    "close_table = dict(zip(date,close_price))\n",
    "print(close_table)\n"
   ]
  },
  {
   "cell_type": "code",
   "execution_count": null,
   "metadata": {},
   "outputs": [],
   "source": [
    "# 101\n",
    "# 파이썬에서 True 혹은 False를 갖는 데이터 타입은 무엇인가?\n",
    "\n",
    "#불타입\n"
   ]
  },
  {
   "cell_type": "code",
   "execution_count": null,
   "metadata": {},
   "outputs": [],
   "source": [
    "# 102\n",
    "# 아래 코드의 출력 결과를 예상하라\n",
    "\n",
    "# print(3 == 5)\n",
    "\n",
    "print(3 == 5)\n",
    "#폴스"
   ]
  },
  {
   "cell_type": "code",
   "execution_count": null,
   "metadata": {},
   "outputs": [],
   "source": [
    "# 103\n",
    "# 아래 코드의 출력 결과를 예상하라\n",
    "\n",
    "# print(3 < 5)\n",
    "\n",
    "print(3 < 5)\n",
    "#트루"
   ]
  },
  {
   "cell_type": "code",
   "execution_count": null,
   "metadata": {},
   "outputs": [],
   "source": [
    "# 104\n",
    "# 아래 코드의 결과를 예상하라.\n",
    "\n",
    "# x = 4\n",
    "# print(1 < x < 5)\n",
    "\n",
    "\n",
    "\n",
    "x = 4\n",
    "print(1 < x < 5)\n",
    "#트루"
   ]
  },
  {
   "cell_type": "code",
   "execution_count": null,
   "metadata": {},
   "outputs": [],
   "source": [
    "# 105\n",
    "# 아래 코드의 결과를 예상하라.\n",
    "\n",
    "# print ((3 == 3) and (4 != 3))\n",
    "\n",
    "print ((3 == 3) and (4 != 3))\n",
    "#트루"
   ]
  },
  {
   "cell_type": "code",
   "execution_count": null,
   "metadata": {},
   "outputs": [],
   "source": [
    "# 106\n",
    "# 아래 코드에서 에러가 발생하는 원인에 대해 설명하라.\n",
    "\n",
    "# print(3 => 4)\n",
    "\n",
    "print(3 >= 4)\n",
    "\n",
    "#위치가 바뀌였다"
   ]
  },
  {
   "cell_type": "code",
   "execution_count": null,
   "metadata": {},
   "outputs": [],
   "source": [
    "# 107\n",
    "# 아래 코드의 출력 결과를 예상하라\n",
    "\n",
    "# if 4 < 3:\n",
    "#     print(\"Hello World\")\n",
    "\n",
    "\n",
    "if 4 < 3:\n",
    "    print(\"Hello World\")\n",
    "\n",
    "#출력되지 않음 참값이 아님"
   ]
  },
  {
   "cell_type": "code",
   "execution_count": null,
   "metadata": {},
   "outputs": [],
   "source": [
    "# 108\n",
    "# 아래 코드의 출력 결과를 예상하라\n",
    "\n",
    "# if 4 < 3:\n",
    "#     print(\"Hello World.\")\n",
    "# else:\n",
    "#     print(\"Hi, there.\")\n",
    "\n",
    "if 4 < 3:\n",
    "    print(\"Hello World.\")\n",
    "else:\n",
    "    print(\"Hi, there.\")\n",
    "\n",
    "#하이데어가 출력됨"
   ]
  },
  {
   "cell_type": "code",
   "execution_count": null,
   "metadata": {},
   "outputs": [],
   "source": [
    "# 109\n",
    "# 아래 코드의 출력 결과를 예상하라\n",
    "\n",
    "# if True :\n",
    "#     print (\"1\")\n",
    "#     print (\"2\")\n",
    "# else :\n",
    "#     print(\"3\")\n",
    "# print(\"4\")\n",
    "\n",
    "if True :\n",
    "    print (\"1\")\n",
    "    print (\"2\")\n",
    "else :\n",
    "    print(\"3\")\n",
    "print(\"4\")\n",
    "\n",
    "#1 , 2 , 4"
   ]
  },
  {
   "cell_type": "code",
   "execution_count": null,
   "metadata": {},
   "outputs": [],
   "source": [
    "# 110\n",
    "# 아래 코드의 출력 결과를 예상하라\n",
    "\n",
    "# if True :\n",
    "#     if False:\n",
    "#         print(\"1\")\n",
    "#         print(\"2\")\n",
    "#     else:\n",
    "#         print(\"3\")\n",
    "# else :\n",
    "#     print(\"4\")\n",
    "# print(\"5\")\n",
    "\n",
    "\n",
    "\n",
    "\n",
    "if True :\n",
    "    if False:\n",
    "        print(\"1\")\n",
    "        print(\"2\")\n",
    "    else:\n",
    "        print(\"3\")\n",
    "else :\n",
    "    print(\"4\")\n",
    "print(\"5\")\n",
    "\n",
    "\n",
    "# 5 아하...트루문실행에서 이프펄스니까 트루일때니까 3이 나오는구만..."
   ]
  },
  {
   "cell_type": "code",
   "execution_count": null,
   "metadata": {},
   "outputs": [],
   "source": [
    "# 111\n",
    "# 사용자로부터 입력받은 문자열을 두 번 출력하라. 아래는 사용자가 \"안녕하세요\"를 입력한 경우의 출력 결과이다.\n",
    "\n",
    "# >> 안녕하세요\n",
    "# 안녕하세요안녕하세요\n",
    "\n",
    "put_value = input(\">>>\")\n",
    "print(put_value*2)"
   ]
  },
  {
   "cell_type": "code",
   "execution_count": null,
   "metadata": {},
   "outputs": [],
   "source": [
    "# 112\n",
    "# 사용자로부터 하나의 숫자를 입력받고, 입력 받은 숫자에 10을 더해 출력하라.\n",
    "\n",
    "# >> 숫자를 입력하세요: 30\n",
    "# 40\n",
    "\n",
    "put_value = input(\">>>\")\n",
    "print(int(put_value) + 10)"
   ]
  },
  {
   "cell_type": "code",
   "execution_count": null,
   "metadata": {},
   "outputs": [],
   "source": [
    "# 113\n",
    "# 사용자로부터 하나의 숫자를 입력 받고 짝수/홀수를 판별하라.\n",
    "\n",
    "# >> 30\n",
    "# 짝수\n",
    "\n",
    "put_value = input(\">>>\")\n",
    "if int(put_value)%2 == 0: # %는 나머지 연산자 이다\n",
    "    print(\"짝수\")\n",
    "else:\n",
    "    print(\"홀수\")\n"
   ]
  },
  {
   "cell_type": "code",
   "execution_count": null,
   "metadata": {},
   "outputs": [],
   "source": [
    "# 114\n",
    "# 사용자로부터 값을 입력받은 후 해당 값에 20을 더한 값을 출력하라. 단 사용자가 입력한 값과 20을 더한 계산 값이 255를 초과하는 경우 255를 출력해야 한다.\n",
    "\n",
    "# >> 입력값: 200\n",
    "# 출력값: 220\n",
    "# >> 입력값: 240\n",
    "# 출력값: 255\n",
    "\n",
    "put_value = input(\">>>\")\n",
    "put_value_2 = int(put_value) + 20\n",
    "if put_value_2 > 255:\n",
    "    print(255)\n",
    "else:\n",
    "    print(put_value_2)\n"
   ]
  },
  {
   "cell_type": "code",
   "execution_count": null,
   "metadata": {},
   "outputs": [],
   "source": [
    "# 115\n",
    "# 사용자로부터 하나의 값을 입력받은 후 해당 값에 20을 뺀 값을 출력하라. 단 출력 값의 범위는 0~255이다. 예를 들어 결괏값이 0보다 작은 값이되는 경우 0을 출력하고 255보다 큰 값이 되는 경우 255를 출력해야 한다.\n",
    "\n",
    "# >> 입력값: 200\n",
    "# 출력값: 180\n",
    "# >> 입력값: 15\n",
    "# 출력값: 0\n",
    "\n",
    "\n",
    "put_value = input(\">>>\")\n",
    "put_value_2 = int(put_value) - 20\n",
    "\n",
    "if put_value_2 > 255:\n",
    "    print(255)\n",
    "elif put_value_2 < 0:\n",
    "    print(0)\n",
    "else:\n",
    "    print(put_value_2)\n",
    "\n"
   ]
  },
  {
   "cell_type": "code",
   "execution_count": null,
   "metadata": {},
   "outputs": [],
   "source": [
    "# 116 important 인덱싱을 쓰다니 생각못했네\n",
    "# 사용자로부터 입력 받은 시간이 정각인지 판별하라.\n",
    "\n",
    "# >> 현재시간:02:00\n",
    "# 정각 입니다.\n",
    "# >> 현재시간:03:10\n",
    "# 정각이 아닙니다\n",
    "\n",
    "time = input(\"현재시간: \")\n",
    "if time[-2:] == \"00\":\n",
    "    print(\"정각 입니다.\")\n",
    "else:\n",
    "    print(\"정각이 아닙니다.\")"
   ]
  },
  {
   "cell_type": "code",
   "execution_count": null,
   "metadata": {},
   "outputs": [],
   "source": [
    "# 117       important   아.. in이 있구나.. 몰랐네\n",
    "# 사용자로 입력받은 단어가 아래 fruit 리스트에 포함되어 있는지를 확인하라. 포함되었다면 \"정답입니다\"를 아닐 경우 \"오답입니다\" 출력하라.\n",
    "\n",
    "# fruit = [\"사과\", \"포도\", \"홍시\"]\n",
    "# >> 좋아하는 과일은? 사과\n",
    "# 정답입니다.\n",
    "\n",
    "fruit = [\"사과\", \"포도\", \"홍시\"]\n",
    "user = input(\"좋아하는 과일은?\")\n",
    "if user in fruit:\n",
    "    print(\"정답입니다.\")\n",
    "else:\n",
    "    print(\"오답입니다.\")"
   ]
  },
  {
   "cell_type": "code",
   "execution_count": null,
   "metadata": {},
   "outputs": [],
   "source": [
    "# 118\n",
    "# 투자 경고 종목 리스트가 있을 때 사용자로부터 종목명을 입력 받은 후 해당 종목이 투자 경고 종목이라면 '투자 경고 종목입니다'를 아니면 \"투자 경고 종목이 아닙니다.\"를 출력하는 프로그램을 작성하라.\n",
    "\n",
    "# warn_investment_list = [\"Microsoft\", \"Google\", \"Naver\", \"Kakao\", \"SAMSUNG\", \"LG\"]\n",
    "\n",
    "warn_investment_list = [\"Microsoft\", \"Google\", \"Naver\", \"Kakao\", \"SAMSUNG\", \"LG\"]\n",
    "\n",
    "user = input(\"투자종목:\")\n",
    "user2 = user.capitalize()\n",
    "if user2 in warn_investment_list:\n",
    "    print(\"투자경고 종목입니다.\")\n",
    "else:\n",
    "    print(\"투자경고 종목이 아닙니다.\")\n",
    "\n"
   ]
  },
  {
   "cell_type": "code",
   "execution_count": null,
   "metadata": {},
   "outputs": [],
   "source": [
    "# 119\n",
    "# 아래와 같이 fruit 딕셔너리가 정의되어 있다. 사용자가 입력한 값이 딕셔너리 키 (key) 값에 포함되었다면 \"정답입니다\"를 아닐 경우 \"오답입니다\" 출력하라.\n",
    "\n",
    "# fruit = {\"봄\" : \"딸기\", \"여름\" : \"토마토\", \"가을\" : \"사과\"}\n",
    "# >> 제가좋아하는계절은: 봄\n",
    "# 정답입니다.\n",
    "\n",
    "fruit = {\"봄\" : \"딸기\", \"여름\" : \"토마토\", \"가을\" : \"사과\"}\n",
    "user = input(\"제가 좋아하는 계절은? >>\")\n",
    "\n",
    "if user in fruit:\n",
    "    print(\"정답입니다\")\n",
    "else:\n",
    "    print(\"오답입니다\")"
   ]
  },
  {
   "cell_type": "code",
   "execution_count": null,
   "metadata": {},
   "outputs": [],
   "source": [
    "# 120\n",
    "# 아래와 같이 fruit 딕셔너리가 정의되어 있다. 사용자가 입력한 값이 딕셔너리 값 (value)에 포함되었다면 \"정답입니다\"를 아닐 경우 \"오답입니다\" 출력하라.\n",
    "\n",
    "# fruit = {\"봄\" : \"딸기\", \"여름\" : \"토마토\", \"가을\" : \"사과\"}\n",
    "# >> 좋아하는과일은? 한라봉\n",
    "# 오답입니다.\n",
    "\n",
    "\n",
    "fruit = {\"봄\" : \"딸기\", \"여름\" : \"토마토\", \"가을\" : \"사과\"}\n",
    "user = input(\"제가 좋아하는 과일은? >>\")\n",
    "\n",
    "if user in fruit.values():\n",
    "    print(\"정답입니다\")\n",
    "else:\n",
    "    print(\"오답입니다\")"
   ]
  },
  {
   "cell_type": "code",
   "execution_count": null,
   "metadata": {},
   "outputs": [],
   "source": [
    "# 121\n",
    "# 사용자로부터 문자 한 개를 입력 받고, 소문자일 경우 대문자로, 대문자 일 경우, 소문자로 변경해서 출력하라.\n",
    "\n",
    "# >> a\n",
    "# A\n",
    "# 힌트-1 : islower() 함수는 문자의 소문자 여부를 판별합니다. 만약 소문자일 경우 True, 대문자일 경우 False를 반환합니다. \n",
    "# 힌트-2 : upper() 함수는 대문자로, lower() 함수는 소문자로 변경합니다.\n",
    "\n",
    "user = input(\">>>\")\n",
    "if user.isupper():\n",
    "    print(user.lower())\n",
    "else:\n",
    "    print(user.upper())"
   ]
  },
  {
   "cell_type": "code",
   "execution_count": null,
   "metadata": {},
   "outputs": [],
   "source": [
    "# 122       important 존나 어려운 방법으로 접근해버렸음 ;;\n",
    "# 점수 구간에 해당하는 학점이 아래와 같이 정의되어 있다. 사용자로부터 score를 입력받아 학점을 출력하라.\n",
    "\n",
    "# 점수\t학점\n",
    "# 81~100\tA\n",
    "# 61~80\tB\n",
    "# 41~60\tC\n",
    "# 21~40\tD\n",
    "# 0~20\tE\n",
    "\n",
    "score = input(\"score: \")\n",
    "score = int(score)\n",
    "if 81 <= score <= 100:\n",
    "    print(\"grade is A\")\n",
    "elif 61 <= score <= 80:\n",
    "    print(\"grade is B\")\n",
    "elif 41 <= score <= 60:\n",
    "    print(\"grade is C\")\n",
    "elif 21 <= score <= 40:\n",
    "    print(\"grade is D\")\n",
    "else:\n",
    "    print(\"grade is E\")"
   ]
  },
  {
   "cell_type": "code",
   "execution_count": null,
   "metadata": {},
   "outputs": [],
   "source": [
    "# 123\n",
    "# 사용자로부터 달러, 엔, 유로, 또는 위안 금액을 입력받은 후 이를 원으로 변환하는 프로그램을 작성하라.\n",
    "# 각 통화별 환율은 다음과 같다. 사용자는 100 달러, 1000 엔, 13 유로, 100 위안과 같이 금액과 통화명 사이에 공백을 넣어 입력한다고 가정한다.\n",
    "\n",
    "# 통화명\t환율\n",
    "# 달러\t1167\n",
    "# 엔\t1.096\n",
    "# 유로\t1268\n",
    "# 위안\t171\n",
    "\n",
    "# >> 입력: 100 달러\n",
    "# 116700.00 원\n",
    "\n",
    "#--- 내풀이\n",
    "# exchange = {\"달러\" : 1167,\n",
    "#             \" 엔\": 1.096,\n",
    "#             \"유로\": 1268,\n",
    "#             \"위안\": 171}\n",
    "\n",
    "# userinput = input(\"입력:ex(100 달러)\")\n",
    "\n",
    "# userinput_contry = userinput[-2:]\n",
    "\n",
    "# userinput_price = int(userinput[:userinput.find(\" \")])\n",
    "\n",
    "# if userinput_contry in exchange:\n",
    "#     print(\"{0:.2f}\".format(userinput_price * exchange[userinput_contry]))\n",
    "# else:\n",
    "#     print(\"환율정보 없음\")\n",
    "\n",
    "#---해답\n",
    "환율 = {\"달러\": 1167, \n",
    "        \"엔\": 1.096, \n",
    "        \"유로\": 1268, \n",
    "        \"위안\": 171}\n",
    "        \n",
    "user = input(\"입력: \")\n",
    "num, currency = user.split()\n",
    "print(float(num) * 환율[currency], \"원\")\n",
    "\n",
    "\n"
   ]
  },
  {
   "cell_type": "code",
   "execution_count": null,
   "metadata": {},
   "outputs": [],
   "source": [
    "# 124\n",
    "# 사용자로부터 세 개의 숫자를 입력 받은 후 가장 큰 숫자를 출력하라.\n",
    "\n",
    "# >> input number1: 10\n",
    "# >> input number2: 9\n",
    "# >> input number3: 20\n",
    "# 20\n",
    "\n",
    "#내풀이\n",
    "userinput1 = int(input(\"1>>>\"))\n",
    "userinput2 = int(input(\"2>>>\"))\n",
    "userinput3 = int(input(\"3>>>\"))\n",
    "li_userinput = [userinput1,userinput2,userinput3]\n",
    "\n",
    "print(max(li_userinput))\n",
    "\n",
    "\n",
    "#해답\n",
    "# num1 = input(\"input number1: \")\n",
    "# num2 = input(\"input number2: \")\n",
    "# num3 = input(\"input number3: \")\n",
    "# num1 = int(num1)\n",
    "# num2 = int(num2)\n",
    "# num3 = int(num3)\n",
    "\n",
    "# if num1 >= num2 and num1 >= num3:\n",
    "#     print(num1)\n",
    "# elif num2 >= num1 and num2 >= num3:\n",
    "#     print(num2)\n",
    "# else:\n",
    "#     print(num3)"
   ]
  },
  {
   "cell_type": "code",
   "execution_count": null,
   "metadata": {},
   "outputs": [],
   "source": [
    "# 125\n",
    "# 휴대폰 번호 앞자리에 따라 통신사는 아래와 같이 구분된다. 사용자로부터 휴대전화 번호를 입력 받고, 통신사를 출력하는 프로그램을 작성하라.\n",
    "\n",
    "# 번호\t통신사\n",
    "# 011\tSKT\n",
    "# 016\tKT\n",
    "# 019\tLGU\n",
    "# 010\t알수없음\n",
    "# >> 휴대전화 번호 입력: 011-345-1922\n",
    "# 당신은 SKT 사용자입니다.\n",
    "\n",
    "\n",
    "#내가풀이\n",
    "# 변수를 지정할떄 10진수의경우 0으로 시작하는 번호는 없음 따라서 zfill 이나, 문자열로 묶어야함\n",
    "# telecoms = {\"SKT\": \"011\" , \n",
    "#         \"KT\": \"016\", \n",
    "#         \"LGU\": \"019\", \n",
    "#         \"알수없음\": \"010\"}\n",
    "\n",
    "# phoneinput = input(\"휴대전화번호 입력>>>\")\n",
    "# indexingPH = phoneinput[:3]\n",
    "\n",
    "# if indexingPH in telecoms.values():\n",
    "#     print(telecoms.get(indexingPH)) # 오류 ;; 밸류값으로 키값을 찾을수는 없는구조다... 딕셔너리를 리버스 하는경우는 가능하지만...추천안함\n",
    "# else:\n",
    "#     print(\"없음\")\n",
    "\n",
    "#해답\n",
    "# number = input(\"휴대전화 번호 입력: \")\n",
    "# num = number.split(\"-\")[0]\n",
    "# if num == \"011\":\n",
    "#     com = \"SKT\"\n",
    "# elif num == \"016\":\n",
    "#     com = \"KT\"\n",
    "# elif num == \"019\":\n",
    "#     com = \"LGU\"\n",
    "# else:\n",
    "#     com = \"알수없음\"\n",
    "# print(f\"당신은 {com} 사용자입니다.\")"
   ]
  },
  {
   "cell_type": "code",
   "execution_count": null,
   "metadata": {},
   "outputs": [],
   "source": [
    "# 126\n",
    "# 우편번호는 5자리로 구성되는데, 앞의 세자리는 구를 나타낸다. 예를들어, 강북구의 경우 010, 011, 012 세 자리로 시작한다.\n",
    "\n",
    "# -\t        0\t1\t    2\t    3\t    4\t    5\t    6\t    7\t    8   \t9\n",
    "# 01\t강북구\t강북구\t 강북구\t 도봉구\t 도봉구\t 도봉구  노원구\t 노원구     노원구\t노원구\n",
    "# 사용자로 부터 5자리 우편번호를 입력받고 구를 판별하라\n",
    "\n",
    "# >> 우편번호: 01400\n",
    "# 도봉구\n",
    "\n",
    "\n",
    "#내가품\n",
    "userinput = input(\"우편번호 5자리 입력>>>\")\n",
    "userinput_chang = userinput[:3]\n",
    "\n",
    "if userinput_chang == \"010\" or userinput_chang == \"011\" or userinput_chang == \"012\": #userinput_chang == 010 or 011 or 012 문장, or은 불타입이기에 userinput문자열이 010문자열또는 011문자열 또는 012문자열 인지 확인하는거다..\n",
    "     print(\"깅북구\")   \n",
    "elif userinput_chang == \"013\" or userinput_chang == \"014\" or userinput_chang == \"015\":\n",
    "     print(\"도봉구\")\n",
    "else:\n",
    "     print(\"노원구\")\n",
    "\n",
    "# #해답\n",
    "# 우편번호 = input(\"우편번호: \")\n",
    "# 우편번호 = 우편번호[:3]\n",
    "# if 우편번호 in [\"010\", \"011\", \"012\"]:\n",
    "#     print(\"강북구\")\n",
    "# elif 우편번호 in [\"014\", \"015\", \"016\"]:\n",
    "#     print(\"도봉구\")\n",
    "# else:\n",
    "#     print(\"노원구\")\n"
   ]
  },
  {
   "cell_type": "code",
   "execution_count": null,
   "metadata": {},
   "outputs": [],
   "source": [
    "# 127\n",
    "# 주민등록번호 뒷 자리 7자리 중 첫째 자리는 성별을 나타내는데, 1, 3은 남자 2, 4는 여자를 의미한다. 사용자로부터 13자리의 주민등록번호를 입력 받은 후 성별 (남자, 여자)를 출력하는 프로그램을 작성하라.\n",
    "\n",
    "# >> 주민등록번호: 821010-1635210\n",
    "# 남자\n",
    "\n",
    "#내가푼답\n",
    "# enrollmantNo = input(\"주민번호(11111-11111)>>>\")\n",
    "# TT = enrollmantNo.split(\"-\")\n",
    "# if TT[1] in [\"1\",\"3\"]:\n",
    "#     print(\"남자\")\n",
    "# else:\n",
    "#     print(\"여자\")\n",
    "\n",
    "#해답\n",
    "\n",
    "주민번호 = input(\"주민등록번호: \")\n",
    "주민번호 = 주민번호.split(\"-\")[1]\n",
    "if 주민번호[0] == \"1\" or 주민번호[0] == \"3\":\n",
    "    print(\"남자\")\n",
    "else:\n",
    "    print(\"여자\")    "
   ]
  },
  {
   "cell_type": "code",
   "execution_count": null,
   "metadata": {},
   "outputs": [],
   "source": [
    "# 128\n",
    "# 주민등록번호의 뒷 자리 7자리 중 두번째와 세번째는 지역코드를 의미한다. 주민 등록 번호를 입력 받은 후 출생지가 서울인지 아닌지 판단하는 코드를 작성하라\n",
    "\n",
    "# 지역코드\t출생지\n",
    "# 00 ~ 08\t서울\n",
    "# 09 ~ 12\t부산\n",
    "# >> 주민등록번호: 821010-1635210\n",
    "# 서울이 아닙니다.\n",
    "# >> 주민등록번호: 861010-1015210\n",
    "# 서울 입니다.\n",
    "\n",
    "주민번호 = input(\"주민등록번호: \")\n",
    "주민번호 = 주민번호.split(\"-\")[1]\n",
    "주민번호 = 주민번호[1:3]\n",
    "if 주민번호 in [\"00\",\"01\",\"02\",\"03\",\"04\",\"05\",\"06\",\"07\",\"08\"]:\n",
    "    print(\"서울\")\n",
    "else:\n",
    "    print(\"부산\")    \n",
    "\n",
    "# #해답\n",
    "\n",
    "# 주민번호 = input(\"주민등록번호: \")\n",
    "# 뒷자리 = 주민번호.split(\"-\")[1]\n",
    "# if 0 <= int(뒷자리[1:3]) <= 8:\n",
    "#     print(\"서울입니다.\")\n",
    "# else:\n",
    "#     print(\"서울이 아닙니다.\")"
   ]
  },
  {
   "cell_type": "code",
   "execution_count": null,
   "metadata": {},
   "outputs": [],
   "source": [
    "# 129\n",
    "# 주민등록번호는 13자리로 구성되는데 마지막 자리수는 주민등록번호의 유효성을 체크하는데 사용된다.\n",
    "#  먼저 앞에서부터 12자리의 숫자에 2, 3, 4, 5, 6, 7, 8, 9, 2, 3, 4, 5를 차례로 곱한 뒤 그 값을 전부 더한다. \n",
    "# 연산 결과 값을 11로 나누면 나머지가 나오는데 11에서 나머지를 뺀 값이 주민등록번호의 마지막 번호가 된다.\n",
    "\n",
    "#   8 2 1 0 1 0 - 1 6 3 5 2 1 0\n",
    "# x 2 3 4 5 6 7   8 9 2 3 4 5 \n",
    "# -----------------------------\n",
    "# 1차 계산: (8*2 + 2*3 + 1*4 + 0*5 + 1*6 + 0*7 + 1*8 + 6*9 + 3*2 + 5*3 + 2*4 + 1*5) = (128 % 11) = 7\n",
    "# 2차 계산: 11 -7 = 4\n",
    "# 위와 같이 821010-1635210에 대해서 계산을 해보면 마지막 자리는 4가 되어야 함을 알 수 있다. 즉, 821010-1635210은 유효하지 않은 주민등록번호임을 알 수 있다.\n",
    "\n",
    "# 다음과 같이 사용자로부터 주민등록번호를 입력받은 후 주민등록번호가 유효한지를 출력하는 프로그램을 작성하라.\n",
    "\n",
    "# >> 주민등록번호: 821010-1635210\n",
    "# 유효하지 않은 주민등록번호입니다. \n",
    "list_input = []\n",
    "\n",
    "num = input(\"주민번호 입력>>>\")\n",
    "\n",
    "i = 0\n",
    "while True:\n",
    "     list_input.append(num[i])\n",
    "     i = i + 1\n",
    "     if i == 14:\n",
    "         break\n",
    "\n",
    "list_input.remove(\"-\")\n",
    "\n",
    "\n",
    "\n",
    "list_multiply = [2, 3, 4, 5, 6, 7, 8, 9, 2, 3, 4, 5]\n",
    "\n",
    "list2 = []\n",
    "\n",
    "for x in [0,1,2,3,4,5,6,7,8,9,10,11]:\n",
    "\n",
    "    cal = int(list_input[x]) * int(list_multiply[x])\n",
    "    list2.append(cal)\n",
    "cal_1 = sum(list2) % 11\n",
    "cal_2 = 11 - cal_1\n",
    "\n",
    "if cal_2 == int(num[-1]):\n",
    "    print(\"유효\")\n",
    "else:\n",
    "    print(\"불효\")\n",
    "\n",
    "\n",
    "#해답\n",
    "# num = input(\"주민등록번호: \")\n",
    "# 계산1 = int(num[0]) * 2 + int(num[1]) * 3 + int(num[2]) * 4 + int(num[3]) * 5 + int(num[4]) * 6 + \\\n",
    "#         int(num[5]) * 7 + int(num[7]) * 8 + int(num[8]) * 9 + int(num[9]) * 2 + int(num[10])* 3 + \\\n",
    "#         int(num[11])* 4 + int(num[12]) * 5\n",
    "# 계산2 = 11 - (계산1 % 11)\n",
    "# 계산3 = str(계산2)\n",
    "\n",
    "# if num[-1] == 계산3[-1]:\n",
    "#     print(\"유효한 주민등록번호입니다.\")\n",
    "# else:\n",
    "#     print(\"유효하지 않은 주민등록번호입니다.\")\n",
    "\n",
    "\n"
   ]
  },
  {
   "cell_type": "code",
   "execution_count": null,
   "metadata": {},
   "outputs": [],
   "source": [
    "# 130\n",
    "# 아래 코드는 비트코인의 가격 정보를 딕셔너리로 가져오는 코드이다.\n",
    "\n",
    "# import requests\n",
    "# btc = requests.get(\"https://api.bithumb.com/public/ticker/\").json()['data']\n",
    "# btc 딕셔너리 안에는 시가, 종가, 최고가, 최저가 등이 저장되어 있다. 최고가와 최저가의 차이를 변동폭으로 정의할 때 (시가 + 변동폭)이 최고가 보다 높을 경우 \"상승장\", 그렇지 않은 경우 \"하락장\" 문자열을 출력하라.\n",
    "\n",
    "# Key Name\tDescription\n",
    "# opening_price\t최근 24시간 내 시작 거래금액\n",
    "# closing_price\t최근 24시간 내 마지막 거래금액\n",
    "# min_price\t최근 24시간 내 최저 거래금액\n",
    "# max_price\t최근 24시간 내 최고 거래금액\n",
    "\n",
    "\n",
    "import requests\n",
    "btc = requests.get(\"https://api.bithumb.com/public/ticker/\").json()['data']\n",
    "\n",
    "start_price = int(btc[\"opening_price\"])\t\n",
    "end_price = int(btc[\"closing_price\"])\t\n",
    "change_price = int(btc[\"min_price\"])\t- int(btc[\"max_price\"])\n",
    "\n",
    "if start_price + change_price >= int(btc[\"max_price\"]):\n",
    "    print(\"상승장\")\n",
    "else:\n",
    "    print(\"하락장\")\n",
    "\n",
    "# 해답\t\n",
    "# import requests\n",
    "# btc = requests.get(\"https://api.bithumb.com/public/ticker/\").json()['data']\n",
    "\n",
    "# 변동폭 = float(btc['max_price']) - float(btc['min_price'])\n",
    "# 시가 = float(btc['opening_price'])\n",
    "# 최고가 = float(btc['max_price'])\n",
    "\n",
    "# if (시가+변동폭) > 최고가:\n",
    "#     print(\"상승장\")\n",
    "# else:\n",
    "#     print(\"하락장\")\n"
   ]
  },
  {
   "cell_type": "code",
   "execution_count": null,
   "metadata": {},
   "outputs": [],
   "source": [
    "# 131\n",
    "# for문의 실행결과를 예측하라.\n",
    "\n",
    "# 과일 = [\"사과\", \"귤\", \"수박\"]\n",
    "# for 변수 in 과일:\n",
    "#     print(변수)\n",
    "\n",
    "\n",
    "과일 = [\"사과\", \"귤\", \"수박\"]\n",
    "for 변수 in 과일:\n",
    "    print(변수)"
   ]
  },
  {
   "cell_type": "code",
   "execution_count": null,
   "metadata": {},
   "outputs": [],
   "source": [
    "# 132\n",
    "# for문의 실행결과를 예측하라.\n",
    "\n",
    "# 과일 = [\"사과\", \"귤\", \"수박\"]\n",
    "# for 변수 in 과일:\n",
    "#   print(\"#####\")\n",
    "\n",
    "과일 = [\"사과\", \"귤\", \"수박\"]\n",
    "for 변수 in 과일:\n",
    "  print(\"#####\")"
   ]
  },
  {
   "cell_type": "code",
   "execution_count": null,
   "metadata": {},
   "outputs": [],
   "source": [
    "# 133\n",
    "# 다음 for 문과 동일한 기능을 수행하는 코드를 작성하세요.\n",
    "\n",
    "# for 변수 in [\"A\", \"B\", \"C\"]:\n",
    "#   print(변수)\n",
    "\n",
    "\n",
    "for 변수 in [\"A\", \"B\", \"C\"]:\n",
    "  print(변수)"
   ]
  },
  {
   "cell_type": "code",
   "execution_count": null,
   "metadata": {},
   "outputs": [],
   "source": [
    "# 134\n",
    "# for문을 풀어서 동일한 동작을하는 코드를 작성하라.\n",
    "\n",
    "# for 변수 in [\"A\", \"B\", \"C\"]:\n",
    "#   print(\"출력:\", 변수)\n",
    "\n",
    "for 변수 in [\"A\", \"B\", \"C\"]:\n",
    "  print(\"출력:\", 변수)\n",
    "\n",
    "\n",
    "변수 = \"A\"\n",
    "print(\"출력:\", 변수)\n",
    "변수 = \"B\"\n",
    "print(\"출력:\", 변수)\n",
    "변수 = \"C\"\n",
    "print(\"출력:\", 변수)"
   ]
  },
  {
   "cell_type": "code",
   "execution_count": null,
   "metadata": {},
   "outputs": [],
   "source": [
    "# 135\n",
    "# for문을 풀어서 동일한 동작을 하는 코드를 작성하라.\n",
    "\n",
    "# for 변수 in [\"A\", \"B\", \"C\"]:\n",
    "#   b = 변수.lower()\n",
    "#   print(\"변환:\", b)\n",
    "\n",
    "\n",
    "for 변수 in [\"A\", \"B\", \"C\"]:\n",
    "  b = 변수.lower()\n",
    "  print(\"변환:\", b)\n",
    "\n",
    "\n",
    "변수 = \"A\"\n",
    "b = 변수.lower()\n",
    "print(\"변환:\", b)\n",
    "변수 = \"B\"\n",
    "b = 변수.lower()\n",
    "print(\"변환:\", b)\n",
    "변수 = \"C\"\n",
    "b = 변수.lower()\n",
    "print(\"변환:\", b)"
   ]
  },
  {
   "cell_type": "code",
   "execution_count": null,
   "metadata": {},
   "outputs": [],
   "source": [
    "# 136\n",
    "# 다음 코드를 for문으로 작성하라.\n",
    "\n",
    "# 변수 = 10\n",
    "# print(변수)\n",
    "# 변수 = 20\n",
    "# print(변수)\n",
    "# 변수 = 30\n",
    "# print(변수)\n",
    "\n",
    "for 변수 in [10,20,30]:\n",
    "    print(변수)\n",
    "\n",
    "\n",
    "# 반복되는 코드는 들여쓰기로 표현하고 for문에서 변하는 부분을 기술해 줍니다.\n",
    "\n",
    "# for 변수 in [10, 20, 30]:\n",
    "#   print(변수)\n",
    "# 다음과 같이 리스트 변수에 데이터를 바인딩하고, 변수를 for문의 자료구조 자리에 넣어줘도 됩니다.\n",
    "\n",
    "# 리스트 = [10, 20, 30]\n",
    "# for 변수 in 리스트:\n",
    "#   print(변수)"
   ]
  },
  {
   "cell_type": "code",
   "execution_count": null,
   "metadata": {},
   "outputs": [],
   "source": [
    "# 137\n",
    "# 다음 코드를 for문으로 작성하라.\n",
    "\n",
    "# print(10)\n",
    "# print(20)\n",
    "# print(30)\n",
    "\n",
    "for 변수 in [10,20,30]:\n",
    "    print(변수)"
   ]
  },
  {
   "cell_type": "code",
   "execution_count": null,
   "metadata": {},
   "outputs": [],
   "source": [
    "# 138\n",
    "# 다음 코드를 for문으로 작성하라.\n",
    "\n",
    "# print(10)\n",
    "# print(\"-------\")\n",
    "# print(20)\n",
    "# print(\"-------\")\n",
    "# print(30)\n",
    "# print(\"-------\")\n",
    "\n",
    "for 변수 in [10,20,30]:\n",
    "    print(변수)\n",
    "    print(\"-------\")\n"
   ]
  },
  {
   "cell_type": "code",
   "execution_count": null,
   "metadata": {},
   "outputs": [],
   "source": [
    "# 139\n",
    "# 다음 코드를 for문으로 작성하라.\n",
    "\n",
    "# print(\"++++\")\n",
    "# print(10)\n",
    "# print(20)\n",
    "# print(30)\n",
    "\n",
    "print(\"++++\")\n",
    "for 변수 in [10, 20, 30]:\n",
    "  print(변수)"
   ]
  },
  {
   "cell_type": "code",
   "execution_count": 1,
   "metadata": {},
   "outputs": [
    {
     "name": "stdout",
     "output_type": "stream",
     "text": [
      "-------\n",
      "-------\n",
      "-------\n",
      "-------\n"
     ]
    }
   ],
   "source": [
    "# 140\n",
    "# 다음 코드를 for문으로 작성하라.\n",
    "\n",
    "# print(\"-------\")\n",
    "# print(\"-------\")\n",
    "# print(\"-------\")\n",
    "# print(\"-------\")\n",
    "\n",
    "for i in [1,2,3,4]:\n",
    "    print(\"-------\")\n"
   ]
  },
  {
   "cell_type": "code",
   "execution_count": 4,
   "metadata": {},
   "outputs": [
    {
     "name": "stdout",
     "output_type": "stream",
     "text": [
      "110\n",
      "210\n",
      "310\n"
     ]
    }
   ],
   "source": [
    "# 141\n",
    "# 다음과 같이 판매가가 저장된 리스트가 있을 때 부가세가 포함된 가격을 for 문을 사용해서 화면에 출력하라. 단 부가세는 10원으로 가정한다.\n",
    "\n",
    "# 리스트 = [100, 200, 300]\n",
    "# 110\n",
    "# 210\n",
    "# 310\n",
    "\n",
    "\n",
    "리스트 = [100, 200, 300]\n",
    "for 변수 in 리스트:\n",
    "    print(변수 + 10)"
   ]
  },
  {
   "cell_type": "code",
   "execution_count": 5,
   "metadata": {},
   "outputs": [
    {
     "name": "stdout",
     "output_type": "stream",
     "text": [
      "오늘의 메뉴: 김밥\n",
      "오늘의 메뉴: 라면\n",
      "오늘의 메뉴: 튀김\n"
     ]
    }
   ],
   "source": [
    "# 142\n",
    "# for 문을 사용해서 리스트에 저장된 값을 다음과 같이 출력하라.\n",
    "\n",
    "# 리스트 = [\"김밥\", \"라면\", \"튀김\"]\n",
    "# 오늘의 메뉴: 김밥\n",
    "# 오늘의 메뉴: 라면\n",
    "# 오늘의 메뉴: 튀김\n",
    "\n",
    "리스트 = [\"김밥\", \"라면\", \"튀김\"]\n",
    "for 변수 in 리스트:\n",
    "    print(\"오늘의 메뉴:\",변수)"
   ]
  },
  {
   "cell_type": "code",
   "execution_count": 6,
   "metadata": {},
   "outputs": [
    {
     "name": "stdout",
     "output_type": "stream",
     "text": [
      "6\n",
      "4\n",
      "4\n"
     ]
    }
   ],
   "source": [
    "# 143\n",
    "# 리스트에 주식 종목이름이 저장돼 있다.\n",
    "\n",
    "# 리스트 = [\"SK하이닉스\", \"삼성전자\", \"LG전자\"]\n",
    "# 저장된 문자열의 길이를 다음과 같이 출력하라.\n",
    "\n",
    "# 6\n",
    "# 4\n",
    "# 4\n",
    "\n",
    "리스트 = [\"SK하이닉스\", \"삼성전자\", \"LG전자\"]\n",
    "for 변수 in 리스트:\n",
    "    print(len(변수))\n"
   ]
  },
  {
   "cell_type": "code",
   "execution_count": 7,
   "metadata": {},
   "outputs": [
    {
     "name": "stdout",
     "output_type": "stream",
     "text": [
      "dog 3\n",
      "cat 3\n",
      "parrot 6\n"
     ]
    }
   ],
   "source": [
    "# 144\n",
    "# 리스트에는 동물이름이 문자열로 저장돼 있다.\n",
    "\n",
    "# 리스트 = ['dog', 'cat', 'parrot']\n",
    "# 동물 이름과 글자수를 다음과 같이 출력하라.\n",
    "\n",
    "# dog 3\n",
    "# cat 3\n",
    "# parrot 6\n",
    "\n",
    "리스트 = ['dog', 'cat', 'parrot']\n",
    "for 변수 in 리스트:\n",
    "    print(변수, len(변수))\n"
   ]
  },
  {
   "cell_type": "code",
   "execution_count": 8,
   "metadata": {},
   "outputs": [
    {
     "name": "stdout",
     "output_type": "stream",
     "text": [
      "d\n",
      "c\n",
      "p\n"
     ]
    }
   ],
   "source": [
    "# 145\n",
    "# 리스트에 동물 이름 저장돼 있다.\n",
    "\n",
    "# 리스트 = ['dog', 'cat', 'parrot']\n",
    "# for문을 사용해서 동물 이름의 첫 글자만 출력하라.\n",
    "\n",
    "# d\n",
    "# c\n",
    "# p\n",
    "\n",
    "리스트 = ['dog', 'cat', 'parrot']\n",
    "for 변수 in 리스트:\n",
    "    print(변수[0])"
   ]
  },
  {
   "cell_type": "code",
   "execution_count": 10,
   "metadata": {},
   "outputs": [
    {
     "name": "stdout",
     "output_type": "stream",
     "text": [
      "3 X 1\n",
      "3 X 2\n",
      "3 X 3\n"
     ]
    }
   ],
   "source": [
    "# 146\n",
    "# 리스트에는 세 개의 숫자가 바인딩돼 있다.\n",
    "\n",
    "# 리스트 = [1, 2, 3]\n",
    "# for문을 사용해서 다음과 같이 출력하라.\n",
    "\n",
    "# 3 x 1\n",
    "# 3 x 2\n",
    "# 3 x 3\n",
    "\n",
    "리스트 = [1, 2, 3]\n",
    "\n",
    "for 변수 in 리스트:\n",
    "    print(리스트[-1] ,\"X\",변수)\n",
    "    "
   ]
  },
  {
   "cell_type": "code",
   "execution_count": 11,
   "metadata": {},
   "outputs": [
    {
     "name": "stdout",
     "output_type": "stream",
     "text": [
      "3 x 1 = 3\n",
      "3 x 2 = 6\n",
      "3 x 3 = 9\n"
     ]
    }
   ],
   "source": [
    "# 147\n",
    "# 리스트에는 세 개의 숫자가 바인딩돼 있다.\n",
    "\n",
    "# 리스트 = [1, 2, 3]\n",
    "# for문을 사용해서 다음과 같이 출력하라.\n",
    "\n",
    "# 3 x 1 = 3\n",
    "# 3 x 2 = 6\n",
    "# 3 x 3 = 9\n",
    "\n",
    "리스트 = [1, 2, 3]\n",
    "for 변수 in 리스트:\n",
    "    print(3,\"x\",변수,\"=\",3*변수)\n",
    "\n",
    "\n",
    "# 1장에서 배운 문자열 함수를 활용하면 코드가 더욱 읽기 쉬워집니다.\n",
    "\n",
    "# 리스트 = [1, 2, 3]\n",
    "# for 변수 in 리스트:\n",
    "#   print(\"3 x {} = {}\".format(변수, 3 * 변수))"
   ]
  },
  {
   "cell_type": "code",
   "execution_count": 12,
   "metadata": {},
   "outputs": [
    {
     "name": "stdout",
     "output_type": "stream",
     "text": [
      "나\n",
      "다\n",
      "라\n"
     ]
    }
   ],
   "source": [
    "# 148   important 리스트도 인덱싱 할수 있다..\n",
    "# 리스트에는 네 개의 문자열이 바인딩돼 있다.\n",
    "\n",
    "# 리스트 = [\"가\", \"나\", \"다\", \"라\"]\n",
    "# for문을 사용해서 다음과 같이 출력하라.\n",
    "\n",
    "# 나\n",
    "# 다\n",
    "# 라\n",
    "\n",
    "리스트 = [\"가\", \"나\", \"다\", \"라\"]\n",
    "for 변수 in 리스트[1:]:\n",
    "  print(변수)"
   ]
  },
  {
   "cell_type": "code",
   "execution_count": 13,
   "metadata": {},
   "outputs": [
    {
     "name": "stdout",
     "output_type": "stream",
     "text": [
      "가\n",
      "다\n"
     ]
    }
   ],
   "source": [
    "# 149       important    아...이거 스발 0:0:0 이였네 방법은 기억났는데 문장이 기억안남\n",
    "# 리스트에는 네 개의 문자열이 바인딩돼 있다.\n",
    "\n",
    "# 리스트 = [\"가\", \"나\", \"다\", \"라\"]\n",
    "# for문을 사용해서 다음과 같이 출력하라.\n",
    "\n",
    "# 가\n",
    "# 다\n",
    "\n",
    "리스트 = [\"가\", \"나\", \"다\", \"라\"]\n",
    "for 변수 in 리스트[::2]:\n",
    "    print(변수)"
   ]
  },
  {
   "cell_type": "code",
   "execution_count": 14,
   "metadata": {},
   "outputs": [
    {
     "name": "stdout",
     "output_type": "stream",
     "text": [
      "라\n",
      "다\n",
      "나\n",
      "가\n"
     ]
    }
   ],
   "source": [
    "# 150\n",
    "# 리스트에는 네 개의 문자열이 바인딩돼 있다.\n",
    "\n",
    "# 리스트 = [\"가\", \"나\", \"다\", \"라\"]\n",
    "# for문을 사용해서 다음과 같이 출력하라.\n",
    "\n",
    "# 라\n",
    "# 다\n",
    "# 나\n",
    "# 가\n",
    "\n",
    "리스트 = [\"가\", \"나\", \"다\", \"라\"]\n",
    "\n",
    "\n",
    "for 변수 in 리스트[::-1]:\n",
    "    print(변수)\n"
   ]
  }
 ],
 "metadata": {
  "interpreter": {
   "hash": "b3ba2566441a7c06988d0923437866b63cedc61552a5af99d1f4fb67d367b25f"
  },
  "kernelspec": {
   "display_name": "Python 3.8.10 64-bit ('base': conda)",
   "language": "python",
   "name": "python3"
  },
  "language_info": {
   "codemirror_mode": {
    "name": "ipython",
    "version": 3
   },
   "file_extension": ".py",
   "mimetype": "text/x-python",
   "name": "python",
   "nbconvert_exporter": "python",
   "pygments_lexer": "ipython3",
   "version": "3.8.10"
  },
  "orig_nbformat": 4
 },
 "nbformat": 4,
 "nbformat_minor": 2
}
