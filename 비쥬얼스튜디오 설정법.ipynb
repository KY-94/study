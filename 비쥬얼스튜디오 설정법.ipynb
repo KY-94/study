{
 "metadata": {
  "language_info": {
   "codemirror_mode": {
    "name": "ipython",
    "version": 3
   },
   "file_extension": ".py",
   "mimetype": "text/x-python",
   "name": "python",
   "nbconvert_exporter": "python",
   "pygments_lexer": "ipython3",
   "version": 3
  },
  "orig_nbformat": 4
 },
 "nbformat": 4,
 "nbformat_minor": 2,
 "cells": [
  {
   "source": [
    "비쥬얼 스튜디오 코드 개발 환경 구성\n",
    "\n",
    "파일 - 설정 - 설정동기ㅡ화켜기 - 병합 ㄱㄱ\n"
   ],
   "cell_type": "markdown",
   "metadata": {}
  },
  {
   "cell_type": "code",
   "execution_count": null,
   "metadata": {},
   "outputs": [],
   "source": [
    "구글에 깃 눌러 깃파일 설치\n",
    "터미널 열어서 다음 과정 진행\n",
    "터미널 열어서 다음 과정 진행\n",
    "git config --global user.name \"사용할이름\"\n",
    "git config --global user.email \"사용할이메일@도메인.com\""
   ]
  }
 ]
}
