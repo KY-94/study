{
 "metadata": {
  "language_info": {
   "codemirror_mode": {
    "name": "ipython",
    "version": 3
   },
   "file_extension": ".py",
   "mimetype": "text/x-python",
   "name": "python",
   "nbconvert_exporter": "python",
   "pygments_lexer": "ipython3",
   "version": 3
  },
  "orig_nbformat": 4
 },
 "nbformat": 4,
 "nbformat_minor": 2,
 "cells": [
  {
   "source": [
    "비쥬얼 스튜디오 코드 개발 환경 구성\n",
    "\n",
    "파일 - 설정 - 설정동기화켜기 - 병합 ㄱㄱ\n"
   ],
   "cell_type": "code",
   "metadata": {},
   "execution_count": null,
   "outputs": []
  },
  {
   "source": [
    "1.  구글에 깃 눌러 깃파일 설치\n",
    "    터미널 열어서 다음 과정 진행\n",
    "    git config --global user.name 사용할이름\n",
    "    git config --global user.email 사용할이메일@도메인.com\n",
    "2. 깃 원격저장소 연결\n",
    "    git remote add origin https://github.com/본인계정명/프로젝트이름.git\n",
    "    git remote -v (원격저장소확인)\n",
    "3. 소스제어창에서 당겨오기(폴) - 로그인\n",
    "4. 변경후 저장, 스태이징, 커밋한다음 푸시\n",
    "\n",
    "5. 기존 리스토어 제거\n",
    "    터미널에서\n",
    "    git remote remove origin\n",
    "    git remote add origin https://github.com/본인계정명/프로젝트이름.git\n",
    "    git remote -v (원격저장소확인)\n",
    "\n",
    "커밋 로그 기록 확인 - git log\n",
    "\n",
    "커밋 해쉬로 그파일 확인 -git show 7자리\n",
    "\n",
    "여러파일 수정한 커밋에서바꾼 파일만 체크 - git show --stat\n"
   ],
   "cell_type": "code",
   "metadata": {},
   "execution_count": null,
   "outputs": []
  }
 ]
}