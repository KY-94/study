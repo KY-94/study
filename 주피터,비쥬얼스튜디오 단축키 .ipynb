{
 "metadata": {
  "language_info": {
   "codemirror_mode": {
    "name": "ipython",
    "version": 3
   },
   "file_extension": ".py",
   "mimetype": "text/x-python",
   "name": "python",
   "nbconvert_exporter": "python",
   "pygments_lexer": "ipython3",
   "version": "3.8.5"
  },
  "orig_nbformat": 2,
  "kernelspec": {
   "name": "python3",
   "display_name": "Python 3.8.5 64-bit ('base': conda)"
  },
  "interpreter": {
   "hash": "b3ba2566441a7c06988d0923437866b63cedc61552a5af99d1f4fb67d367b25f"
  }
 },
 "nbformat": 4,
 "nbformat_minor": 2,
 "cells": [
  {
   "source": [
    "# 비쥬얼 스튜디오 단축키\n",
    "■ ctrl + shift + k (한 행 전체 삭제)\n",
    "\n",
    "■ ctrl + x (한 행 전체 잘라내기)\n",
    "\n",
    "■ ctrl + c (한 행 전체 복사하기)\n",
    "\n",
    "■ alt + Up/Down(특정 행을 위아래로 위치바꾸기)\n",
    "\n",
    "■ ctrl + Enter(다음 행으로 줄바꿈, 아무데나 찍고 써도 해당 행은 건너뛰고 새로운 행으로 줄바꿔짐)\n",
    "\n",
    "■ ctrl + shift + Enter(바로 위에 위치한 행으로 줄바꿈)\n",
    "\n",
    "■ ctrl + alt + Up/Down(위아래로 여러 행을 선택하여 처음 설정한 행에 찍은 커서랑 동일한 위치에 커서생성 후 동일문구 추가 또는 들여쓰기 등 같은 작업 일괄 수행하는 작업)\n",
    "\n",
    "■ ctrl + d (현재 선택항목의 다음 항목을 찾아 선택)\n",
    "\n",
    "■ ctrl + shift + L(현재 선택항목을 전부 찾아 선택)\n",
    "\n",
    "■ ctrl + /(선택한 행 전체를 각 행별로 한줄씩 주석처리)\n",
    "\n",
    "■ shift + alt + a (선택한 행 전체를 여러줄 주석처리)\n",
    "\n",
    "■ ctrl + [ ,] 들여쓰기 방법\n",
    "\n",
    "cls 터미널 청소하기"
   ],
   "cell_type": "markdown",
   "metadata": {}
  },
  {
   "source": [
    "# 주피터 노트북 생성하기\n",
    "\n",
    "view > command palette > python: create new blank jupyter notebook 선택 \n",
    "    "
   ],
   "cell_type": "markdown",
   "metadata": {}
  },
  {
   "source": [
    "커맨드모드는 파란색\n",
    "\n",
    "커맨드 모드 엔터 (x잘라내기,c복사하기,v붙여넣기,dd셀지우기,m마크다운전환,y코드로전환)\n",
    "\n",
    "에딧모드는 초록색 \n",
    "\n",
    "esc누르면 에딧 모드\n",
    "\n",
    "커맨드 모드에서 A키는 위로 셀추가\n",
    "\n",
    "커맨드 모드에서 B키는 아래로 셀추가"
   ],
   "cell_type": "markdown",
   "metadata": {}
  },
  {
   "source": [
    "\n",
    "컨트롤 엔터는 그냥 실행\n",
    "\n",
    "쉬프트엔터는 실행되고 밑에 새로운 셀 생성\n",
    "\n",
    "알트엔터는 그냥 밑에 셀이 생성"
   ],
   "cell_type": "markdown",
   "metadata": {}
  },
  {
   "source": [
    "에딧모드\n",
    "\n",
    "Ctrl-Z = 되돌리기\n",
    "\n",
    "Ctrl-Y = 앞으로 되돌리기"
   ],
   "cell_type": "markdown",
   "metadata": {}
  },
  {
   "source": [
    "\n",
    "마크다운은 메모장 기능이다\n",
    "\n",
    "# #누르면 좀더 진하게된다\n"
   ],
   "cell_type": "markdown",
   "metadata": {}
  }
 ]
}