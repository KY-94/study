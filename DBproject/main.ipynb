{
 "cells": [
  {
   "cell_type": "code",
   "execution_count": 1,
   "metadata": {},
   "outputs": [],
   "source": [
    "# 창실행 입력 #\n",
    "\n",
    "\n",
    "import sys\n",
    "from PyQt5.QtWidgets import *\n",
    "from PyQt5 import uic\n",
    "\n",
    "#UI파일 연결\n",
    "#단, UI파일은 Python 코드 파일과 같은 디렉토리에 위치해야한다.\n",
    "form_class = uic.loadUiType(\"main.ui\")[0]\n",
    "\n",
    "#화면을 띄우는데 사용되는 Class 선언\n",
    "class WindowClass(QMainWindow, form_class) :\n",
    "    def __init__(self) :\n",
    "        super().__init__()\n",
    "        self.setupUi(self)\n",
    "\n",
    "if __name__ == \"__main__\" :\n",
    "    #QApplication : 프로그램을 실행시켜주는 클래스\n",
    "    app = QApplication(sys.argv) \n",
    "\n",
    "    #WindowClass의 인스턴스 생성\n",
    "    myWindow = WindowClass() \n",
    "\n",
    "    #프로그램 화면을 보여주는 코드\n",
    "    myWindow.show()\n",
    "\n",
    "    #프로그램을 이벤트루프로 진입시키는(프로그램을 작동시키는) 코드\n",
    "    app.exec_()\n",
    "    \n",
    "    \n",
    "    # 창실행 입력"
   ]
  }
 ],
 "metadata": {
  "kernelspec": {
   "display_name": "Python 3.8.13 ('base')",
   "language": "python",
   "name": "python3"
  },
  "language_info": {
   "codemirror_mode": {
    "name": "ipython",
    "version": 3
   },
   "file_extension": ".py",
   "mimetype": "text/x-python",
   "name": "python",
   "nbconvert_exporter": "python",
   "pygments_lexer": "ipython3",
   "version": "3.8.13"
  },
  "orig_nbformat": 4,
  "vscode": {
   "interpreter": {
    "hash": "ad2bdc8ecc057115af97d19610ffacc2b4e99fae6737bb82f5d7fb13d2f2c186"
   }
  }
 },
 "nbformat": 4,
 "nbformat_minor": 2
}
