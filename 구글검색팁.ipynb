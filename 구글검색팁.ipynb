{
 "metadata": {
  "language_info": {
   "codemirror_mode": {
    "name": "ipython",
    "version": 3
   },
   "file_extension": ".py",
   "mimetype": "text/x-python",
   "name": "python",
   "nbconvert_exporter": "python",
   "pygments_lexer": "ipython3",
   "version": 3
  },
  "orig_nbformat": 4
 },
 "nbformat": 4,
 "nbformat_minor": 2,
 "cells": [
  {
   "cell_type": "code",
   "execution_count": null,
   "metadata": {},
   "outputs": [],
   "source": [
    "구글 검색방법\n",
    "\n",
    "1. site:python.org 내장함수 > 파이썬싸이트에서만 내장함수라는 걸 검색한다\n",
    "\n",
    "2. \"\"큰따옴표  > 반드시 그 검색어를 포함하여 검색\n",
    "\n",
    "3. - > 검색된 것에서 -검색어를 빼버린다.\n",
    "\n",
    "4. or  >검색어 둘중에 하나 포함된것 찾음\n",
    "\n",
    "5. and >검색어 둘중을 반드시 포함된 \n",
    "\n",
    "6. filetype:pdf > pdf로만 된 검색내용 \n",
    "\n",
    "7. define: > 정의를 하는 웹페이지 결과 도출\n",
    "\n",
    "8. related: >검색어와 관련있는 내용을 도출\n",
    "\n",
    "9. intitle: >검색어가 제목에 꼭들어가 있는 내용 도출\n",
    "\n",
    "10. allintitle: 1,2 > 검색어가 타이틀에 모두 들어가있어야 도출\n",
    "\n",
    "11.\n",
    "\n"
   ]
  }
 ]
}